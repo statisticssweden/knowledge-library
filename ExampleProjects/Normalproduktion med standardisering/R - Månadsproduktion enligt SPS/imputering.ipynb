{
 "cells": [
  {
   "cell_type": "markdown",
   "id": "882fe9d8-7945-4f88-bb51-15b80aeb26f0",
   "metadata": {},
   "source": [
    "<p>_____________________________________________________________________________________</p>\n",
    "<h2>Imputering</h2>\n",
    "<p>Beskrivning: Styrprogram för imputering av omsättning</p>\n",
    "<p>Skapad av: Martin Odencrants</p>\n",
    "<p>Inparametrar:\n",
    "   <ul>\n",
    "       <li>Inreported: Dataset innehållande insamlade värden från objekt i urvalet</li>\n",
    "       <li>InCollectionUnits: Dataset innehållande bakgrundsinformation för urvalet</li>\n",
    "       <li>referencePeriodStart: Parameter som sätts av användare, startperiod för imputeringskörning</li>\n",
    "       <li>referencePeriodEnd: Parameter som sätts av användare, slutperiodperiod för imputeringskörning</li>  \n",
    "   </ul>\n",
    "</p>\n",
    "<p>Ändringar:</p>\n",
    "       \n",
    "       "
   ]
  },
  {
   "cell_type": "code",
   "execution_count": 600,
   "id": "cdf28aeb-c683-4aad-986e-916579a9d3c2",
   "metadata": {
    "tags": []
   },
   "outputs": [
    {
     "name": "stderr",
     "output_type": "stream",
     "text": [
      "Updating HTML index of packages in '.Library'\n",
      "\n",
      "Making 'packages.html' ...\n",
      " done\n",
      "\n",
      "Updating HTML index of packages in '.Library'\n",
      "\n",
      "Making 'packages.html' ...\n",
      " done\n",
      "\n",
      "Updating HTML index of packages in '.Library'\n",
      "\n",
      "Making 'packages.html' ...\n",
      " done\n",
      "\n"
     ]
    }
   ],
   "source": [
    "source(\"utils.r\")"
   ]
  },
  {
   "cell_type": "code",
   "execution_count": 601,
   "id": "88996c04-1421-476a-b1a2-6403c3f44f15",
   "metadata": {
    "tags": []
   },
   "outputs": [],
   "source": [
    "referencePeriodStart<-\"2023M06\"\n",
    "referencePeriodEnd<-\"2023M06\""
   ]
  },
  {
   "cell_type": "code",
   "execution_count": 603,
   "id": "afccd51e-461b-4642-86d0-40ef14ce655b",
   "metadata": {
    "tags": []
   },
   "outputs": [
    {
     "name": "stderr",
     "output_type": "stream",
     "text": [
      "Updating HTML index of packages in '.Library'\n",
      "\n",
      "Making 'packages.html' ...\n",
      " done\n",
      "\n",
      "Updating HTML index of packages in '.Library'\n",
      "\n",
      "Making 'packages.html' ...\n",
      " done\n",
      "\n",
      "Updating HTML index of packages in '.Library'\n",
      "\n",
      "Making 'packages.html' ...\n",
      " done\n",
      "\n"
     ]
    }
   ],
   "source": [
    "for (i in generateMonthSequence(referencePeriodStart,referencePeriodEnd)){\n",
    "    previous_year_month<-get_previous_year_month(i)\n",
    "        source(\"Läs indata.r\")\n",
    "        source(\"Tilldela Idnr.r\")\n",
    "        source(\"Tilldela Variabelnamn.r\")\n",
    "        source(\"Härledning av variabler.r\")\n",
    "        source(\"Basedata.r\")\n",
    "        source(\"AllrowsToImpute.r\")\n",
    "        source(\"Imp moms.r\")\n",
    "    if(i==referencePeriodEnd){\n",
    "        source(\"Skriv till MINIO.r\")\n",
    "        }\n",
    "    \n",
    "}"
   ]
  },
  {
   "cell_type": "code",
   "execution_count": null,
   "id": "ead3fdb8-c418-4971-aa6e-cd878f2bb416",
   "metadata": {},
   "outputs": [],
   "source": []
  },
  {
   "cell_type": "code",
   "execution_count": null,
   "id": "10ce602a-9d5d-4f64-b639-18b89fcbee1a",
   "metadata": {},
   "outputs": [],
   "source": []
  },
  {
   "cell_type": "code",
   "execution_count": null,
   "id": "f8a3b1f0-e713-4d45-ad64-23bd1b08a030",
   "metadata": {},
   "outputs": [],
   "source": []
  },
  {
   "cell_type": "code",
   "execution_count": 591,
   "id": "25571597-6043-448c-8661-02849a4e4863",
   "metadata": {
    "tags": []
   },
   "outputs": [],
   "source": [
    "\n",
    "\n"
   ]
  },
  {
   "cell_type": "code",
   "execution_count": 597,
   "id": "1f62275d-a41b-4dce-bf92-8cffb790b196",
   "metadata": {
    "tags": []
   },
   "outputs": [],
   "source": [
    "\n"
   ]
  },
  {
   "cell_type": "code",
   "execution_count": 565,
   "id": "28d50787-147a-457b-95a0-71dd79c9504a",
   "metadata": {},
   "outputs": [],
   "source": []
  },
  {
   "cell_type": "code",
   "execution_count": 575,
   "id": "7354d2b5-ccd3-483a-9c86-0928942050f1",
   "metadata": {
    "tags": []
   },
   "outputs": [],
   "source": []
  },
  {
   "cell_type": "code",
   "execution_count": 582,
   "id": "3974633b-effd-44d4-a9ad-94f859da6e77",
   "metadata": {
    "tags": []
   },
   "outputs": [],
   "source": []
  },
  {
   "cell_type": "code",
   "execution_count": 583,
   "id": "95eec2bf-3eab-4a73-b913-5221b7113709",
   "metadata": {
    "tags": []
   },
   "outputs": [
    {
     "name": "stdout",
     "output_type": "stream",
     "text": [
      "\u001b[90m# A tibble: 2 × 2\u001b[39m\n",
      "  Attribute MeanValue\n",
      "  \u001b[3m\u001b[90m<chr>\u001b[39m\u001b[23m         \u001b[3m\u001b[90m<dbl>\u001b[39m\u001b[23m\n",
      "\u001b[90m1\u001b[39m A                20\n",
      "\u001b[90m2\u001b[39m B                20\n"
     ]
    }
   ],
   "source": []
  },
  {
   "cell_type": "code",
   "execution_count": null,
   "id": "d412b254-7965-4994-88fe-2cc208fe2600",
   "metadata": {},
   "outputs": [],
   "source": []
  }
 ],
 "metadata": {
  "kernelspec": {
   "display_name": "R",
   "language": "R",
   "name": "ir"
  },
  "language_info": {
   "codemirror_mode": "r",
   "file_extension": ".r",
   "mimetype": "text/x-r-source",
   "name": "R",
   "pygments_lexer": "r",
   "version": "4.2.3"
  }
 },
 "nbformat": 4,
 "nbformat_minor": 5
}
