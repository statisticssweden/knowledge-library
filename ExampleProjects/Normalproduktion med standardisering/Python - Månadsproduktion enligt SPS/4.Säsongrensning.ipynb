{
 "cells": [
  {
   "cell_type": "markdown",
   "id": "85d9164d-2734-432e-b354-9272112cd340",
   "metadata": {},
   "source": [
    "## Säsongrensning"
   ]
  },
  {
   "cell_type": "code",
   "execution_count": 1,
   "id": "85944dc1-a0bc-43b0-b120-d17b4dcf7240",
   "metadata": {},
   "outputs": [
    {
     "name": "stdout",
     "output_type": "stream",
     "text": [
      "Säsongrensning\n"
     ]
    }
   ],
   "source": [
    "print(\"Säsongrensning\")"
   ]
  }
 ],
 "metadata": {
  "kernelspec": {
   "display_name": "Python 3 (ipykernel)",
   "language": "python",
   "name": "python3"
  },
  "language_info": {
   "codemirror_mode": {
    "name": "ipython",
    "version": 3
   },
   "file_extension": ".py",
   "mimetype": "text/x-python",
   "name": "python",
   "nbconvert_exporter": "python",
   "pygments_lexer": "ipython3",
   "version": "3.9.7"
  }
 },
 "nbformat": 4,
 "nbformat_minor": 5
}
