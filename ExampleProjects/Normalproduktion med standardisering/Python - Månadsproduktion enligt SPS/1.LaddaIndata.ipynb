{
 "cells": [
  {
   "cell_type": "markdown",
   "id": "4a5782fc-d720-4713-8a9a-c70cbf6dee26",
   "metadata": {
    "papermill": {
     "duration": 0.002459,
     "end_time": "2023-11-10T16:04:57.655877",
     "exception": false,
     "start_time": "2023-11-10T16:04:57.653418",
     "status": "completed"
    },
    "tags": []
   },
   "source": [
    "## Ladda kodknippet"
   ]
  },
  {
   "cell_type": "code",
   "execution_count": 1,
   "id": "4d63f1f9-585b-4921-a8f5-820eefb360d4",
   "metadata": {
    "execution": {
     "iopub.execute_input": "2023-11-10T16:04:57.667645Z",
     "iopub.status.busy": "2023-11-10T16:04:57.662454Z",
     "iopub.status.idle": "2023-11-10T16:05:11.258584Z",
     "shell.execute_reply": "2023-11-10T16:05:11.259197Z"
    },
    "papermill": {
     "duration": 13.601359,
     "end_time": "2023-11-10T16:05:11.259413",
     "exception": false,
     "start_time": "2023-11-10T16:04:57.658054",
     "status": "completed"
    },
    "tags": []
   },
   "outputs": [
    {
     "name": "stdout",
     "output_type": "stream",
     "text": [
      "Requirement already satisfied: sas7bdat in /opt/conda/lib/python3.9/site-packages (2.2.3)\r\n",
      "Requirement already satisfied: six>=1.8.0 in /opt/conda/lib/python3.9/site-packages (from sas7bdat) (1.16.0)\r\n"
     ]
    },
    {
     "name": "stdout",
     "output_type": "stream",
     "text": [
      "Requirement already satisfied: xport in /opt/conda/lib/python3.9/site-packages (3.6.1)\r\n",
      "Requirement already satisfied: click>=7.1.1 in /opt/conda/lib/python3.9/site-packages (from xport) (8.1.3)\r\n",
      "Requirement already satisfied: pandas<1.4,>=1.3.5 in /opt/conda/lib/python3.9/site-packages (from xport) (1.3.5)\r\n",
      "Requirement already satisfied: pyyaml in /opt/conda/lib/python3.9/site-packages (from xport) (5.4.1)\r\n",
      "Requirement already satisfied: pytz>=2017.3 in /opt/conda/lib/python3.9/site-packages (from pandas<1.4,>=1.3.5->xport) (2021.3)\r\n",
      "Requirement already satisfied: python-dateutil>=2.7.3 in /opt/conda/lib/python3.9/site-packages (from pandas<1.4,>=1.3.5->xport) (2.8.2)\r\n",
      "Requirement already satisfied: numpy>=1.17.3 in /opt/conda/lib/python3.9/site-packages (from pandas<1.4,>=1.3.5->xport) (1.24.2)\r\n",
      "Requirement already satisfied: six>=1.5 in /opt/conda/lib/python3.9/site-packages (from python-dateutil>=2.7.3->pandas<1.4,>=1.3.5->xport) (1.16.0)\r\n"
     ]
    }
   ],
   "source": [
    "%run 0.Hämta_Lämna_Minio.ipynb"
   ]
  },
  {
   "cell_type": "markdown",
   "id": "4ffc1d89-b227-4827-8312-b545ed8c3bbb",
   "metadata": {
    "papermill": {
     "duration": 0.002129,
     "end_time": "2023-11-10T16:05:11.263996",
     "exception": false,
     "start_time": "2023-11-10T16:05:11.261867",
     "status": "completed"
    },
    "tags": []
   },
   "source": [
    "## Specificera miljön och data fil"
   ]
  },
  {
   "cell_type": "code",
   "execution_count": 2,
   "id": "3be8854b-a8a8-400a-989a-b98fba49709b",
   "metadata": {
    "execution": {
     "iopub.execute_input": "2023-11-10T16:05:11.272268Z",
     "iopub.status.busy": "2023-11-10T16:05:11.271645Z",
     "iopub.status.idle": "2023-11-10T16:05:11.274315Z",
     "shell.execute_reply": "2023-11-10T16:05:11.274927Z"
    },
    "papermill": {
     "duration": 0.009163,
     "end_time": "2023-11-10T16:05:11.275093",
     "exception": false,
     "start_time": "2023-11-10T16:05:11.265930",
     "status": "completed"
    },
    "tags": []
   },
   "outputs": [],
   "source": [
    "bucket_name = \"demo-funktionalitet\"\n",
    "file_path_in_s3 = \"Mikro_Syntetisk_Data.csv\""
   ]
  },
  {
   "cell_type": "markdown",
   "id": "6739c0ab-3813-4e07-ae53-d5bbd8986b82",
   "metadata": {
    "papermill": {
     "duration": 0.001986,
     "end_time": "2023-11-10T16:05:11.279172",
     "exception": false,
     "start_time": "2023-11-10T16:05:11.277186",
     "status": "completed"
    },
    "tags": []
   },
   "source": [
    "## Tillämpa fuktionen och läsa in data"
   ]
  },
  {
   "cell_type": "code",
   "execution_count": 3,
   "id": "0b184d66-ba9c-4426-b6d3-346b00cf1ead",
   "metadata": {
    "execution": {
     "iopub.execute_input": "2023-11-10T16:05:11.288545Z",
     "iopub.status.busy": "2023-11-10T16:05:11.287912Z",
     "iopub.status.idle": "2023-11-10T16:05:11.448541Z",
     "shell.execute_reply": "2023-11-10T16:05:11.449141Z"
    },
    "papermill": {
     "duration": 0.167806,
     "end_time": "2023-11-10T16:05:11.449329",
     "exception": false,
     "start_time": "2023-11-10T16:05:11.281523",
     "status": "completed"
    },
    "tags": []
   },
   "outputs": [],
   "source": [
    "contents = read_from_s3(bucket_name, file_path_in_s3, datatype='csv')"
   ]
  },
  {
   "cell_type": "code",
   "execution_count": 4,
   "id": "c6db235d-5d8b-4434-b5a6-ba157769a7af",
   "metadata": {
    "execution": {
     "iopub.execute_input": "2023-11-10T16:05:11.459198Z",
     "iopub.status.busy": "2023-11-10T16:05:11.458369Z",
     "iopub.status.idle": "2023-11-10T16:05:11.474874Z",
     "shell.execute_reply": "2023-11-10T16:05:11.474238Z"
    },
    "papermill": {
     "duration": 0.023829,
     "end_time": "2023-11-10T16:05:11.475689",
     "exception": false,
     "start_time": "2023-11-10T16:05:11.451860",
     "status": "completed"
    },
    "tags": []
   },
   "outputs": [
    {
     "name": "stdout",
     "output_type": "stream",
     "text": [
      "<class 'pandas.core.frame.DataFrame'>\n",
      "RangeIndex: 71673 entries, 0 to 71672\n",
      "Data columns (total 12 columns):\n",
      " #   Column      Non-Null Count  Dtype  \n",
      "---  ------      --------------  -----  \n",
      " 0   Nace        71673 non-null  int64  \n",
      " 1   CompanyID   71673 non-null  object \n",
      " 2   Year        71673 non-null  int64  \n",
      " 3   Mon         71673 non-null  int64  \n",
      " 4   Allvar      71673 non-null  float64\n",
      " 5   SampleYear  71673 non-null  int64  \n",
      " 6   Status      71671 non-null  float64\n",
      " 7   BGrupp      71673 non-null  object \n",
      " 8   SGrupp      71673 non-null  int64  \n",
      " 9   Storan      71673 non-null  int64  \n",
      " 10  Lillan      71673 non-null  int64  \n",
      " 11  turnover    71673 non-null  int64  \n",
      "dtypes: float64(2), int64(8), object(2)\n",
      "memory usage: 6.6+ MB\n"
     ]
    }
   ],
   "source": [
    "contents.info()"
   ]
  },
  {
   "cell_type": "code",
   "execution_count": 5,
   "id": "6a0ecec7-8971-402a-ad59-2d2feeac5643",
   "metadata": {
    "execution": {
     "iopub.execute_input": "2023-11-10T16:05:11.484363Z",
     "iopub.status.busy": "2023-11-10T16:05:11.483729Z",
     "iopub.status.idle": "2023-11-10T16:05:11.778999Z",
     "shell.execute_reply": "2023-11-10T16:05:11.777859Z"
    },
    "papermill": {
     "duration": 0.30114,
     "end_time": "2023-11-10T16:05:11.779280",
     "exception": false,
     "start_time": "2023-11-10T16:05:11.478140",
     "status": "completed"
    },
    "tags": []
   },
   "outputs": [],
   "source": [
    "contents.to_csv(\"Output1.csv\")"
   ]
  }
 ],
 "metadata": {
  "kernelspec": {
   "display_name": "Python 3 (ipykernel)",
   "language": "python",
   "name": "python3"
  },
  "language_info": {
   "codemirror_mode": {
    "name": "ipython",
    "version": 3
   },
   "file_extension": ".py",
   "mimetype": "text/x-python",
   "name": "python",
   "nbconvert_exporter": "python",
   "pygments_lexer": "ipython3",
   "version": "3.9.7"
  },
  "papermill": {
   "default_parameters": {},
   "duration": 15.574895,
   "end_time": "2023-11-10T16:05:12.100645",
   "environment_variables": {},
   "exception": null,
   "input_path": "/home/jovyan/demo-funktionalitet/exempelprojekt statistikproduktion/Normalproduktion med standardisering/produktion/Månadsproduktion enligt SPS/Python/1.LaddaIndata.ipynb",
   "output_path": "/home/jovyan/demo-funktionalitet/exempelprojekt statistikproduktion/Normalproduktion med standardisering/produktion/Månadsproduktion enligt SPS/Python/1.LaddaIndata.ipynb",
   "parameters": {},
   "start_time": "2023-11-10T16:04:56.525750",
   "version": "2.4.0"
  }
 },
 "nbformat": 4,
 "nbformat_minor": 5
}