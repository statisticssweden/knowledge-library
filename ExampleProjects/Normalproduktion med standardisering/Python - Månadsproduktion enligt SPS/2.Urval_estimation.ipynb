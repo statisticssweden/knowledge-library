{
 "cells": [
  {
   "cell_type": "markdown",
   "id": "f5e0e5ab-9562-4454-b154-56e083d9ac49",
   "metadata": {
    "papermill": {
     "duration": 0.002385,
     "end_time": "2023-10-27T07:19:08.033821",
     "exception": false,
     "start_time": "2023-10-27T07:19:08.031436",
     "status": "completed"
    },
    "tags": []
   },
   "source": [
    "## Urval estimation\n",
    "\n",
    "Installera Python paket samplics. Nej, \"samplics\" funkar inte bra."
   ]
  },
  {
   "cell_type": "code",
   "execution_count": 1,
   "id": "cfda66e6-f6f4-4fd2-9df0-f5fadf49d10e",
   "metadata": {
    "execution": {
     "iopub.execute_input": "2023-10-27T07:19:08.048943Z",
     "iopub.status.busy": "2023-10-27T07:19:08.045345Z",
     "iopub.status.idle": "2023-10-27T07:19:08.053013Z",
     "shell.execute_reply": "2023-10-27T07:19:08.052425Z"
    },
    "papermill": {
     "duration": 0.017187,
     "end_time": "2023-10-27T07:19:08.053162",
     "exception": false,
     "start_time": "2023-10-27T07:19:08.035975",
     "status": "completed"
    },
    "tags": []
   },
   "outputs": [
    {
     "data": {
      "text/plain": [
       "'\\ntry: \\n    import samplics\\nexcept:\\n    !pip install samplics \\n    import samplics as ss\\n'"
      ]
     },
     "execution_count": 1,
     "metadata": {},
     "output_type": "execute_result"
    }
   ],
   "source": [
    "'''\n",
    "try: \n",
    "    import samplics\n",
    "except:\n",
    "    !pip install samplics \n",
    "    import samplics as ss\n",
    "'''"
   ]
  },
  {
   "cell_type": "markdown",
   "id": "b2f8640f-1598-4a7b-bc22-d02a8acb5e7e",
   "metadata": {
    "papermill": {
     "duration": 0.00229,
     "end_time": "2023-10-27T07:19:08.058628",
     "exception": false,
     "start_time": "2023-10-27T07:19:08.056338",
     "status": "completed"
    },
    "tags": []
   },
   "source": [
    "### Läs in data från tidigare steg"
   ]
  },
  {
   "cell_type": "code",
   "execution_count": 2,
   "id": "7ed8cbae-3981-4b84-b385-9938918c9e54",
   "metadata": {
    "execution": {
     "iopub.execute_input": "2023-10-27T07:19:08.067956Z",
     "iopub.status.busy": "2023-10-27T07:19:08.067356Z",
     "iopub.status.idle": "2023-10-27T07:19:08.544115Z",
     "shell.execute_reply": "2023-10-27T07:19:08.543590Z"
    },
    "papermill": {
     "duration": 0.482875,
     "end_time": "2023-10-27T07:19:08.544258",
     "exception": false,
     "start_time": "2023-10-27T07:19:08.061383",
     "status": "completed"
    },
    "tags": []
   },
   "outputs": [
    {
     "data": {
      "text/html": [
       "<div>\n",
       "<style scoped>\n",
       "    .dataframe tbody tr th:only-of-type {\n",
       "        vertical-align: middle;\n",
       "    }\n",
       "\n",
       "    .dataframe tbody tr th {\n",
       "        vertical-align: top;\n",
       "    }\n",
       "\n",
       "    .dataframe thead th {\n",
       "        text-align: right;\n",
       "    }\n",
       "</style>\n",
       "<table border=\"1\" class=\"dataframe\">\n",
       "  <thead>\n",
       "    <tr style=\"text-align: right;\">\n",
       "      <th></th>\n",
       "      <th>Unnamed: 0</th>\n",
       "      <th>Nace</th>\n",
       "      <th>CompanyID</th>\n",
       "      <th>Year</th>\n",
       "      <th>Mon</th>\n",
       "      <th>Allvar</th>\n",
       "      <th>SampleYear</th>\n",
       "      <th>Status</th>\n",
       "      <th>BGrupp</th>\n",
       "      <th>SGrupp</th>\n",
       "      <th>Storan</th>\n",
       "      <th>Lillan</th>\n",
       "      <th>turnover</th>\n",
       "    </tr>\n",
       "  </thead>\n",
       "  <tbody>\n",
       "    <tr>\n",
       "      <th>71668</th>\n",
       "      <td>71668</td>\n",
       "      <td>26</td>\n",
       "      <td>S213000317</td>\n",
       "      <td>2021</td>\n",
       "      <td>12</td>\n",
       "      <td>318.0</td>\n",
       "      <td>2021</td>\n",
       "      <td>711.0</td>\n",
       "      <td>26400</td>\n",
       "      <td>5</td>\n",
       "      <td>9</td>\n",
       "      <td>9</td>\n",
       "      <td>0</td>\n",
       "    </tr>\n",
       "    <tr>\n",
       "      <th>71669</th>\n",
       "      <td>71669</td>\n",
       "      <td>25</td>\n",
       "      <td>S213000320</td>\n",
       "      <td>2021</td>\n",
       "      <td>12</td>\n",
       "      <td>6757.0</td>\n",
       "      <td>2021</td>\n",
       "      <td>73102.0</td>\n",
       "      <td>255XX</td>\n",
       "      <td>4</td>\n",
       "      <td>99</td>\n",
       "      <td>99</td>\n",
       "      <td>644</td>\n",
       "    </tr>\n",
       "    <tr>\n",
       "      <th>71670</th>\n",
       "      <td>71670</td>\n",
       "      <td>26</td>\n",
       "      <td>S213000324</td>\n",
       "      <td>2021</td>\n",
       "      <td>12</td>\n",
       "      <td>26530.0</td>\n",
       "      <td>2021</td>\n",
       "      <td>73102.0</td>\n",
       "      <td>262YY</td>\n",
       "      <td>6</td>\n",
       "      <td>8</td>\n",
       "      <td>8</td>\n",
       "      <td>2437</td>\n",
       "    </tr>\n",
       "    <tr>\n",
       "      <th>71671</th>\n",
       "      <td>71671</td>\n",
       "      <td>26</td>\n",
       "      <td>S213000325</td>\n",
       "      <td>2021</td>\n",
       "      <td>12</td>\n",
       "      <td>676.0</td>\n",
       "      <td>2021</td>\n",
       "      <td>73101.0</td>\n",
       "      <td>26100</td>\n",
       "      <td>1</td>\n",
       "      <td>25</td>\n",
       "      <td>5</td>\n",
       "      <td>7</td>\n",
       "    </tr>\n",
       "    <tr>\n",
       "      <th>71672</th>\n",
       "      <td>71672</td>\n",
       "      <td>27</td>\n",
       "      <td>T018996076</td>\n",
       "      <td>2021</td>\n",
       "      <td>12</td>\n",
       "      <td>687574.0</td>\n",
       "      <td>2021</td>\n",
       "      <td>711.0</td>\n",
       "      <td>271XX</td>\n",
       "      <td>6</td>\n",
       "      <td>13</td>\n",
       "      <td>13</td>\n",
       "      <td>59360</td>\n",
       "    </tr>\n",
       "  </tbody>\n",
       "</table>\n",
       "</div>"
      ],
      "text/plain": [
       "       Unnamed: 0  Nace   CompanyID  Year  Mon    Allvar  SampleYear   Status  \\\n",
       "71668       71668    26  S213000317  2021   12     318.0        2021    711.0   \n",
       "71669       71669    25  S213000320  2021   12    6757.0        2021  73102.0   \n",
       "71670       71670    26  S213000324  2021   12   26530.0        2021  73102.0   \n",
       "71671       71671    26  S213000325  2021   12     676.0        2021  73101.0   \n",
       "71672       71672    27  T018996076  2021   12  687574.0        2021    711.0   \n",
       "\n",
       "      BGrupp  SGrupp  Storan  Lillan  turnover  \n",
       "71668  26400       5       9       9         0  \n",
       "71669  255XX       4      99      99       644  \n",
       "71670  262YY       6       8       8      2437  \n",
       "71671  26100       1      25       5         7  \n",
       "71672  271XX       6      13      13     59360  "
      ]
     },
     "execution_count": 2,
     "metadata": {},
     "output_type": "execute_result"
    }
   ],
   "source": [
    "import numpy as np\n",
    "import pandas as pd\n",
    "\n",
    "df_ind = pd.read_csv(\"Output1.csv\")\n",
    "\n",
    "df_ind.tail()"
   ]
  },
  {
   "cell_type": "code",
   "execution_count": 3,
   "id": "37dc9df6-7cc0-49c7-816f-11eebd74b24c",
   "metadata": {
    "execution": {
     "iopub.execute_input": "2023-10-27T07:19:08.556333Z",
     "iopub.status.busy": "2023-10-27T07:19:08.555643Z",
     "iopub.status.idle": "2023-10-27T07:19:08.560554Z",
     "shell.execute_reply": "2023-10-27T07:19:08.559988Z"
    },
    "papermill": {
     "duration": 0.01354,
     "end_time": "2023-10-27T07:19:08.560717",
     "exception": false,
     "start_time": "2023-10-27T07:19:08.547177",
     "status": "completed"
    },
    "tags": []
   },
   "outputs": [],
   "source": [
    "df_ind.drop(\"Unnamed: 0\", axis = 1, inplace=True)"
   ]
  },
  {
   "cell_type": "code",
   "execution_count": 4,
   "id": "d9049b65-6b9e-4877-868b-a8dfe26d025e",
   "metadata": {
    "execution": {
     "iopub.execute_input": "2023-10-27T07:19:08.570369Z",
     "iopub.status.busy": "2023-10-27T07:19:08.569768Z",
     "iopub.status.idle": "2023-10-27T07:19:08.597675Z",
     "shell.execute_reply": "2023-10-27T07:19:08.598157Z"
    },
    "papermill": {
     "duration": 0.034934,
     "end_time": "2023-10-27T07:19:08.598334",
     "exception": false,
     "start_time": "2023-10-27T07:19:08.563400",
     "status": "completed"
    },
    "tags": []
   },
   "outputs": [
    {
     "data": {
      "text/html": [
       "<div>\n",
       "<style scoped>\n",
       "    .dataframe tbody tr th:only-of-type {\n",
       "        vertical-align: middle;\n",
       "    }\n",
       "\n",
       "    .dataframe tbody tr th {\n",
       "        vertical-align: top;\n",
       "    }\n",
       "\n",
       "    .dataframe thead th {\n",
       "        text-align: right;\n",
       "    }\n",
       "</style>\n",
       "<table border=\"1\" class=\"dataframe\">\n",
       "  <thead>\n",
       "    <tr style=\"text-align: right;\">\n",
       "      <th></th>\n",
       "      <th>Nace</th>\n",
       "      <th>CompanyID</th>\n",
       "      <th>Year</th>\n",
       "      <th>Mon</th>\n",
       "      <th>Allvar</th>\n",
       "      <th>SampleYear</th>\n",
       "      <th>Status</th>\n",
       "      <th>BGrupp</th>\n",
       "      <th>SGrupp</th>\n",
       "      <th>Storan</th>\n",
       "      <th>Lillan</th>\n",
       "      <th>turnover</th>\n",
       "    </tr>\n",
       "  </thead>\n",
       "  <tbody>\n",
       "    <tr>\n",
       "      <th>40</th>\n",
       "      <td>25</td>\n",
       "      <td>S140009003</td>\n",
       "      <td>2015</td>\n",
       "      <td>1</td>\n",
       "      <td>1052.0</td>\n",
       "      <td>2014</td>\n",
       "      <td>73146.0</td>\n",
       "      <td>251XX</td>\n",
       "      <td>1</td>\n",
       "      <td>157</td>\n",
       "      <td>8</td>\n",
       "      <td>95</td>\n",
       "    </tr>\n",
       "    <tr>\n",
       "      <th>41</th>\n",
       "      <td>25</td>\n",
       "      <td>S140009004</td>\n",
       "      <td>2015</td>\n",
       "      <td>1</td>\n",
       "      <td>877.0</td>\n",
       "      <td>2014</td>\n",
       "      <td>711.0</td>\n",
       "      <td>251XX</td>\n",
       "      <td>1</td>\n",
       "      <td>157</td>\n",
       "      <td>8</td>\n",
       "      <td>38</td>\n",
       "    </tr>\n",
       "    <tr>\n",
       "      <th>42</th>\n",
       "      <td>25</td>\n",
       "      <td>S140009005</td>\n",
       "      <td>2015</td>\n",
       "      <td>1</td>\n",
       "      <td>671.0</td>\n",
       "      <td>2014</td>\n",
       "      <td>711.0</td>\n",
       "      <td>251XX</td>\n",
       "      <td>1</td>\n",
       "      <td>157</td>\n",
       "      <td>8</td>\n",
       "      <td>42</td>\n",
       "    </tr>\n",
       "    <tr>\n",
       "      <th>43</th>\n",
       "      <td>25</td>\n",
       "      <td>S140009007</td>\n",
       "      <td>2015</td>\n",
       "      <td>1</td>\n",
       "      <td>526.0</td>\n",
       "      <td>2014</td>\n",
       "      <td>711.0</td>\n",
       "      <td>251XX</td>\n",
       "      <td>1</td>\n",
       "      <td>157</td>\n",
       "      <td>8</td>\n",
       "      <td>3</td>\n",
       "    </tr>\n",
       "    <tr>\n",
       "      <th>55</th>\n",
       "      <td>25</td>\n",
       "      <td>S140009023</td>\n",
       "      <td>2015</td>\n",
       "      <td>1</td>\n",
       "      <td>996.0</td>\n",
       "      <td>2014</td>\n",
       "      <td>73146.0</td>\n",
       "      <td>251XX</td>\n",
       "      <td>1</td>\n",
       "      <td>157</td>\n",
       "      <td>8</td>\n",
       "      <td>72</td>\n",
       "    </tr>\n",
       "    <tr>\n",
       "      <th>...</th>\n",
       "      <td>...</td>\n",
       "      <td>...</td>\n",
       "      <td>...</td>\n",
       "      <td>...</td>\n",
       "      <td>...</td>\n",
       "      <td>...</td>\n",
       "      <td>...</td>\n",
       "      <td>...</td>\n",
       "      <td>...</td>\n",
       "      <td>...</td>\n",
       "      <td>...</td>\n",
       "      <td>...</td>\n",
       "    </tr>\n",
       "    <tr>\n",
       "      <th>71278</th>\n",
       "      <td>30</td>\n",
       "      <td>S140010013</td>\n",
       "      <td>2021</td>\n",
       "      <td>12</td>\n",
       "      <td>90076.0</td>\n",
       "      <td>2021</td>\n",
       "      <td>711.0</td>\n",
       "      <td>301XX</td>\n",
       "      <td>6</td>\n",
       "      <td>5</td>\n",
       "      <td>5</td>\n",
       "      <td>12496</td>\n",
       "    </tr>\n",
       "    <tr>\n",
       "      <th>71280</th>\n",
       "      <td>30</td>\n",
       "      <td>S140010016</td>\n",
       "      <td>2021</td>\n",
       "      <td>12</td>\n",
       "      <td>27776.0</td>\n",
       "      <td>2021</td>\n",
       "      <td>711.0</td>\n",
       "      <td>30900</td>\n",
       "      <td>6</td>\n",
       "      <td>2</td>\n",
       "      <td>2</td>\n",
       "      <td>2179</td>\n",
       "    </tr>\n",
       "    <tr>\n",
       "      <th>71281</th>\n",
       "      <td>30</td>\n",
       "      <td>S140010017</td>\n",
       "      <td>2021</td>\n",
       "      <td>12</td>\n",
       "      <td>29997.0</td>\n",
       "      <td>2021</td>\n",
       "      <td>711.0</td>\n",
       "      <td>30900</td>\n",
       "      <td>6</td>\n",
       "      <td>2</td>\n",
       "      <td>2</td>\n",
       "      <td>1952</td>\n",
       "    </tr>\n",
       "    <tr>\n",
       "      <th>71269</th>\n",
       "      <td>30</td>\n",
       "      <td>S140009999</td>\n",
       "      <td>2021</td>\n",
       "      <td>12</td>\n",
       "      <td>67461.0</td>\n",
       "      <td>2021</td>\n",
       "      <td>711.0</td>\n",
       "      <td>301XX</td>\n",
       "      <td>8</td>\n",
       "      <td>2</td>\n",
       "      <td>2</td>\n",
       "      <td>19852</td>\n",
       "    </tr>\n",
       "    <tr>\n",
       "      <th>71274</th>\n",
       "      <td>30</td>\n",
       "      <td>S140010007</td>\n",
       "      <td>2021</td>\n",
       "      <td>12</td>\n",
       "      <td>746378.0</td>\n",
       "      <td>2021</td>\n",
       "      <td>711.0</td>\n",
       "      <td>301XX</td>\n",
       "      <td>8</td>\n",
       "      <td>2</td>\n",
       "      <td>2</td>\n",
       "      <td>57302</td>\n",
       "    </tr>\n",
       "  </tbody>\n",
       "</table>\n",
       "<p>71673 rows × 12 columns</p>\n",
       "</div>"
      ],
      "text/plain": [
       "       Nace   CompanyID  Year  Mon    Allvar  SampleYear   Status BGrupp  \\\n",
       "40       25  S140009003  2015    1    1052.0        2014  73146.0  251XX   \n",
       "41       25  S140009004  2015    1     877.0        2014    711.0  251XX   \n",
       "42       25  S140009005  2015    1     671.0        2014    711.0  251XX   \n",
       "43       25  S140009007  2015    1     526.0        2014    711.0  251XX   \n",
       "55       25  S140009023  2015    1     996.0        2014  73146.0  251XX   \n",
       "...     ...         ...   ...  ...       ...         ...      ...    ...   \n",
       "71278    30  S140010013  2021   12   90076.0        2021    711.0  301XX   \n",
       "71280    30  S140010016  2021   12   27776.0        2021    711.0  30900   \n",
       "71281    30  S140010017  2021   12   29997.0        2021    711.0  30900   \n",
       "71269    30  S140009999  2021   12   67461.0        2021    711.0  301XX   \n",
       "71274    30  S140010007  2021   12  746378.0        2021    711.0  301XX   \n",
       "\n",
       "       SGrupp  Storan  Lillan  turnover  \n",
       "40          1     157       8        95  \n",
       "41          1     157       8        38  \n",
       "42          1     157       8        42  \n",
       "43          1     157       8         3  \n",
       "55          1     157       8        72  \n",
       "...       ...     ...     ...       ...  \n",
       "71278       6       5       5     12496  \n",
       "71280       6       2       2      2179  \n",
       "71281       6       2       2      1952  \n",
       "71269       8       2       2     19852  \n",
       "71274       8       2       2     57302  \n",
       "\n",
       "[71673 rows x 12 columns]"
      ]
     },
     "execution_count": 4,
     "metadata": {},
     "output_type": "execute_result"
    }
   ],
   "source": [
    "df_ind.sort_values(by=[\"Year\", \"Mon\", \"Nace\", \"SGrupp\"])"
   ]
  },
  {
   "cell_type": "code",
   "execution_count": 5,
   "id": "7f123d50-c5c5-438c-b524-bb446c90c6c8",
   "metadata": {
    "execution": {
     "iopub.execute_input": "2023-10-27T07:19:08.611356Z",
     "iopub.status.busy": "2023-10-27T07:19:08.610630Z",
     "iopub.status.idle": "2023-10-27T07:19:08.613613Z",
     "shell.execute_reply": "2023-10-27T07:19:08.614271Z"
    },
    "papermill": {
     "duration": 0.01159,
     "end_time": "2023-10-27T07:19:08.614419",
     "exception": false,
     "start_time": "2023-10-27T07:19:08.602829",
     "status": "completed"
    },
    "tags": []
   },
   "outputs": [],
   "source": [
    "\n",
    "def horvitz_thompson_estimator(rows):\n",
    "    n = len(rows)\n",
    "    y = rows['turnover']\n",
    "    pi = rows['Lillan'] / rows['Storan']\n",
    "    ht_estimator = np.sum(y / pi)\n",
    "    ht_variance_estimator = np.sum(np.outer(y, y) / np.outer(pi, pi)) - (2 / np.sum(rows['Storan'])) * np.sum(np.triu(np.outer(y, y) / np.outer(pi, pi), k=1))\n",
    "    return pd.Series({'ht_estimator': ht_estimator, 'ht_variance_estimator': ht_variance_estimator})\n",
    "    #return pd.Series({'Year': rows['Year'].iloc[0], 'Mon': rows['Mon'].iloc[0], 'Nace': rows['Nace'].iloc[0], 'SGrupp': rows['SGrupp'].iloc[0], 'ht_estimator': ht_estimator, 'ht_variance_estimator': ht_variance_estimator})\n",
    "\n"
   ]
  },
  {
   "cell_type": "code",
   "execution_count": 6,
   "id": "291ac6d7-3a17-4ef0-b332-e5bee5bace0c",
   "metadata": {
    "execution": {
     "iopub.execute_input": "2023-10-27T07:19:08.787461Z",
     "iopub.status.busy": "2023-10-27T07:19:08.786645Z",
     "iopub.status.idle": "2023-10-27T07:19:11.578019Z",
     "shell.execute_reply": "2023-10-27T07:19:11.577508Z"
    },
    "papermill": {
     "duration": 2.80039,
     "end_time": "2023-10-27T07:19:11.578197",
     "exception": false,
     "start_time": "2023-10-27T07:19:08.777807",
     "status": "completed"
    },
    "tags": []
   },
   "outputs": [
    {
     "name": "stderr",
     "output_type": "stream",
     "text": [
      "/tmp/ipykernel_30695/61179157.py:6: RuntimeWarning: divide by zero encountered in scalar divide\n",
      "  ht_variance_estimator = np.sum(np.outer(y, y) / np.outer(pi, pi)) - (2 / np.sum(rows['Storan'])) * np.sum(np.triu(np.outer(y, y) / np.outer(pi, pi), k=1))\n",
      "/tmp/ipykernel_30695/61179157.py:6: RuntimeWarning: invalid value encountered in scalar multiply\n",
      "  ht_variance_estimator = np.sum(np.outer(y, y) / np.outer(pi, pi)) - (2 / np.sum(rows['Storan'])) * np.sum(np.triu(np.outer(y, y) / np.outer(pi, pi), k=1))\n",
      "/tmp/ipykernel_30695/61179157.py:6: RuntimeWarning: divide by zero encountered in scalar divide\n",
      "  ht_variance_estimator = np.sum(np.outer(y, y) / np.outer(pi, pi)) - (2 / np.sum(rows['Storan'])) * np.sum(np.triu(np.outer(y, y) / np.outer(pi, pi), k=1))\n",
      "/tmp/ipykernel_30695/61179157.py:6: RuntimeWarning: invalid value encountered in scalar multiply\n",
      "  ht_variance_estimator = np.sum(np.outer(y, y) / np.outer(pi, pi)) - (2 / np.sum(rows['Storan'])) * np.sum(np.triu(np.outer(y, y) / np.outer(pi, pi), k=1))\n",
      "/tmp/ipykernel_30695/61179157.py:6: RuntimeWarning: divide by zero encountered in scalar divide\n",
      "  ht_variance_estimator = np.sum(np.outer(y, y) / np.outer(pi, pi)) - (2 / np.sum(rows['Storan'])) * np.sum(np.triu(np.outer(y, y) / np.outer(pi, pi), k=1))\n",
      "/tmp/ipykernel_30695/61179157.py:6: RuntimeWarning: invalid value encountered in scalar multiply\n",
      "  ht_variance_estimator = np.sum(np.outer(y, y) / np.outer(pi, pi)) - (2 / np.sum(rows['Storan'])) * np.sum(np.triu(np.outer(y, y) / np.outer(pi, pi), k=1))\n",
      "/tmp/ipykernel_30695/61179157.py:6: RuntimeWarning: divide by zero encountered in scalar divide\n",
      "  ht_variance_estimator = np.sum(np.outer(y, y) / np.outer(pi, pi)) - (2 / np.sum(rows['Storan'])) * np.sum(np.triu(np.outer(y, y) / np.outer(pi, pi), k=1))\n",
      "/tmp/ipykernel_30695/61179157.py:6: RuntimeWarning: invalid value encountered in scalar multiply\n",
      "  ht_variance_estimator = np.sum(np.outer(y, y) / np.outer(pi, pi)) - (2 / np.sum(rows['Storan'])) * np.sum(np.triu(np.outer(y, y) / np.outer(pi, pi), k=1))\n"
     ]
    },
    {
     "name": "stderr",
     "output_type": "stream",
     "text": [
      "/tmp/ipykernel_30695/61179157.py:6: RuntimeWarning: divide by zero encountered in scalar divide\n",
      "  ht_variance_estimator = np.sum(np.outer(y, y) / np.outer(pi, pi)) - (2 / np.sum(rows['Storan'])) * np.sum(np.triu(np.outer(y, y) / np.outer(pi, pi), k=1))\n",
      "/tmp/ipykernel_30695/61179157.py:6: RuntimeWarning: invalid value encountered in scalar multiply\n",
      "  ht_variance_estimator = np.sum(np.outer(y, y) / np.outer(pi, pi)) - (2 / np.sum(rows['Storan'])) * np.sum(np.triu(np.outer(y, y) / np.outer(pi, pi), k=1))\n",
      "/tmp/ipykernel_30695/61179157.py:6: RuntimeWarning: divide by zero encountered in scalar divide\n",
      "  ht_variance_estimator = np.sum(np.outer(y, y) / np.outer(pi, pi)) - (2 / np.sum(rows['Storan'])) * np.sum(np.triu(np.outer(y, y) / np.outer(pi, pi), k=1))\n",
      "/tmp/ipykernel_30695/61179157.py:6: RuntimeWarning: invalid value encountered in scalar multiply\n",
      "  ht_variance_estimator = np.sum(np.outer(y, y) / np.outer(pi, pi)) - (2 / np.sum(rows['Storan'])) * np.sum(np.triu(np.outer(y, y) / np.outer(pi, pi), k=1))\n",
      "/tmp/ipykernel_30695/61179157.py:6: RuntimeWarning: divide by zero encountered in scalar divide\n",
      "  ht_variance_estimator = np.sum(np.outer(y, y) / np.outer(pi, pi)) - (2 / np.sum(rows['Storan'])) * np.sum(np.triu(np.outer(y, y) / np.outer(pi, pi), k=1))\n",
      "/tmp/ipykernel_30695/61179157.py:6: RuntimeWarning: invalid value encountered in scalar multiply\n",
      "  ht_variance_estimator = np.sum(np.outer(y, y) / np.outer(pi, pi)) - (2 / np.sum(rows['Storan'])) * np.sum(np.triu(np.outer(y, y) / np.outer(pi, pi), k=1))\n",
      "/tmp/ipykernel_30695/61179157.py:6: RuntimeWarning: divide by zero encountered in scalar divide\n",
      "  ht_variance_estimator = np.sum(np.outer(y, y) / np.outer(pi, pi)) - (2 / np.sum(rows['Storan'])) * np.sum(np.triu(np.outer(y, y) / np.outer(pi, pi), k=1))\n",
      "/tmp/ipykernel_30695/61179157.py:6: RuntimeWarning: invalid value encountered in scalar multiply\n",
      "  ht_variance_estimator = np.sum(np.outer(y, y) / np.outer(pi, pi)) - (2 / np.sum(rows['Storan'])) * np.sum(np.triu(np.outer(y, y) / np.outer(pi, pi), k=1))\n",
      "/tmp/ipykernel_30695/61179157.py:6: RuntimeWarning: divide by zero encountered in scalar divide\n",
      "  ht_variance_estimator = np.sum(np.outer(y, y) / np.outer(pi, pi)) - (2 / np.sum(rows['Storan'])) * np.sum(np.triu(np.outer(y, y) / np.outer(pi, pi), k=1))\n",
      "/tmp/ipykernel_30695/61179157.py:6: RuntimeWarning: invalid value encountered in scalar multiply\n",
      "  ht_variance_estimator = np.sum(np.outer(y, y) / np.outer(pi, pi)) - (2 / np.sum(rows['Storan'])) * np.sum(np.triu(np.outer(y, y) / np.outer(pi, pi), k=1))\n"
     ]
    }
   ],
   "source": [
    "# calculate the point estimate and variance in each stratum\n",
    "\n",
    "estim = df_ind.groupby(by=[\"Year\", \"Mon\", \"Nace\", \"SGrupp\"]).apply(horvitz_thompson_estimator)\n"
   ]
  },
  {
   "cell_type": "code",
   "execution_count": 7,
   "id": "eb37025b-2cbe-49ae-878d-fc0ed1db2898",
   "metadata": {
    "execution": {
     "iopub.execute_input": "2023-10-27T07:19:11.590295Z",
     "iopub.status.busy": "2023-10-27T07:19:11.589581Z",
     "iopub.status.idle": "2023-10-27T07:19:11.597362Z",
     "shell.execute_reply": "2023-10-27T07:19:11.598117Z"
    },
    "papermill": {
     "duration": 0.016656,
     "end_time": "2023-10-27T07:19:11.598378",
     "exception": false,
     "start_time": "2023-10-27T07:19:11.581722",
     "status": "completed"
    },
    "tags": []
   },
   "outputs": [
    {
     "name": "stdout",
     "output_type": "stream",
     "text": [
      "                       ht_estimator  ht_variance_estimator\n",
      "Year Mon Nace SGrupp                                      \n",
      "2015 1   25   1        51922.483491           2.695910e+09\n",
      "              2       101791.923077           1.036134e+10\n",
      "              3        71817.965217           5.157520e+09\n",
      "              4        92754.857143           8.602336e+09\n",
      "              5         7755.000000           5.887481e+07\n",
      "...                             ...                    ...\n",
      "2021 12  30   1        12654.200000           1.595369e+08\n",
      "              2         5610.000000           3.130920e+07\n",
      "              5        21584.000000           4.646908e+08\n",
      "              6        74657.000000           5.430961e+09\n",
      "              8        77154.000000           5.383960e+09\n",
      "\n",
      "[2628 rows x 2 columns]\n"
     ]
    }
   ],
   "source": [
    "print(estim)"
   ]
  },
  {
   "cell_type": "code",
   "execution_count": 8,
   "id": "8c30b576-79f0-4f6e-910c-80be039f4475",
   "metadata": {
    "execution": {
     "iopub.execute_input": "2023-10-27T07:19:11.614342Z",
     "iopub.status.busy": "2023-10-27T07:19:11.613425Z",
     "iopub.status.idle": "2023-10-27T07:19:11.617102Z",
     "shell.execute_reply": "2023-10-27T07:19:11.616268Z"
    },
    "papermill": {
     "duration": 0.013007,
     "end_time": "2023-10-27T07:19:11.617284",
     "exception": false,
     "start_time": "2023-10-27T07:19:11.604277",
     "status": "completed"
    },
    "tags": []
   },
   "outputs": [],
   "source": [
    "import pickle\n",
    "\n",
    "estim.to_pickle('Estim.pkl')"
   ]
  }
 ],
 "metadata": {
  "kernelspec": {
   "display_name": "Python 3 (ipykernel)",
   "language": "python",
   "name": "python3"
  },
  "language_info": {
   "codemirror_mode": {
    "name": "ipython",
    "version": 3
   },
   "file_extension": ".py",
   "mimetype": "text/x-python",
   "name": "python",
   "nbconvert_exporter": "python",
   "pygments_lexer": "ipython3",
   "version": "3.9.7"
  },
  "papermill": {
   "default_parameters": {},
   "duration": 5.028434,
   "end_time": "2023-10-27T07:19:11.939365",
   "environment_variables": {},
   "exception": null,
   "input_path": "/home/jovyan/demo-funktionalitet/exempelprojekt statistikproduktion/Normalproduktion med standardisering/produktion/Månadsproduktion enligt SPS/Python/Urval_estimation.ipynb",
   "output_path": "/home/jovyan/demo-funktionalitet/exempelprojekt statistikproduktion/Normalproduktion med standardisering/produktion/Månadsproduktion enligt SPS/Python/Urval_estimation.ipynb",
   "parameters": {},
   "start_time": "2023-10-27T07:19:06.910931",
   "version": "2.4.0"
  }
 },
 "nbformat": 4,
 "nbformat_minor": 5
}