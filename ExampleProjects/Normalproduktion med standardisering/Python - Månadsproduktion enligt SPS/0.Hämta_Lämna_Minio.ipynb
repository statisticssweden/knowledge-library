{
 "cells": [
  {
   "cell_type": "markdown",
   "id": "8f556941-5295-4566-b0f1-510549c2cadc",
   "metadata": {
    "papermill": {
     "duration": 0.003222,
     "end_time": "2023-11-10T16:04:42.443131",
     "exception": false,
     "start_time": "2023-11-10T16:04:42.439909",
     "status": "completed"
    },
    "tags": []
   },
   "source": [
    "## Hämta data från Bucket (Minio)"
   ]
  },
  {
   "cell_type": "markdown",
   "id": "c83394d5-4ebe-4076-ad9e-32e662d85c16",
   "metadata": {
    "papermill": {
     "duration": 0.002442,
     "end_time": "2023-11-10T16:04:42.448387",
     "exception": false,
     "start_time": "2023-11-10T16:04:42.445945",
     "status": "completed"
    },
    "tags": []
   },
   "source": [
    "### Ladda paket: xlrd behövs för Excel"
   ]
  },
  {
   "cell_type": "code",
   "execution_count": 1,
   "id": "aaab7eeb-5262-40f1-b984-4c299c9de98f",
   "metadata": {
    "execution": {
     "iopub.execute_input": "2023-11-10T16:04:42.466450Z",
     "iopub.status.busy": "2023-11-10T16:04:42.465821Z",
     "iopub.status.idle": "2023-11-10T16:04:43.146057Z",
     "shell.execute_reply": "2023-11-10T16:04:43.146518Z"
    },
    "papermill": {
     "duration": 0.695837,
     "end_time": "2023-11-10T16:04:43.146724",
     "exception": false,
     "start_time": "2023-11-10T16:04:42.450887",
     "status": "completed"
    },
    "tags": []
   },
   "outputs": [],
   "source": [
    "from minio import Minio\n",
    "from minio.commonconfig import Tags\n",
    "from io import BytesIO\n",
    "import os\n",
    "import pandas as pd\n",
    "\n",
    "import tempfile\n",
    "\n",
    "try:\n",
    "    import xlrd\n",
    "except:\n",
    "    !pip install xlrd\n",
    "    import xlrd\n",
    "\n",
    "try:\n",
    "    import openpyxl\n",
    "except:\n",
    "    !pip install openpyxl\n",
    "    import openpyxl\n",
    "\n",
    "try:\n",
    "    import pyreadstat\n",
    "except:\n",
    "    !pip install pyreadstat\n",
    "    import pyreadstat\n"
   ]
  },
  {
   "cell_type": "code",
   "execution_count": 2,
   "id": "32b7a7c6-719f-403e-938c-da0d116871f9",
   "metadata": {
    "execution": {
     "iopub.execute_input": "2023-11-10T16:04:43.156620Z",
     "iopub.status.busy": "2023-11-10T16:04:43.155989Z",
     "iopub.status.idle": "2023-11-10T16:04:49.427372Z",
     "shell.execute_reply": "2023-11-10T16:04:49.427857Z"
    },
    "papermill": {
     "duration": 6.278388,
     "end_time": "2023-11-10T16:04:49.428040",
     "exception": false,
     "start_time": "2023-11-10T16:04:43.149652",
     "status": "completed"
    },
    "tags": []
   },
   "outputs": [
    {
     "name": "stdout",
     "output_type": "stream",
     "text": [
      "Requirement already satisfied: sas7bdat in /opt/conda/lib/python3.9/site-packages (2.2.3)\r\n",
      "Requirement already satisfied: six>=1.8.0 in /opt/conda/lib/python3.9/site-packages (from sas7bdat) (1.16.0)\r\n"
     ]
    },
    {
     "name": "stdout",
     "output_type": "stream",
     "text": [
      "Requirement already satisfied: xport in /opt/conda/lib/python3.9/site-packages (3.6.1)\r\n",
      "Requirement already satisfied: pandas<1.4,>=1.3.5 in /opt/conda/lib/python3.9/site-packages (from xport) (1.3.5)\r\n",
      "Requirement already satisfied: click>=7.1.1 in /opt/conda/lib/python3.9/site-packages (from xport) (8.1.3)\r\n",
      "Requirement already satisfied: pyyaml in /opt/conda/lib/python3.9/site-packages (from xport) (5.4.1)\r\n"
     ]
    },
    {
     "name": "stdout",
     "output_type": "stream",
     "text": [
      "Requirement already satisfied: pytz>=2017.3 in /opt/conda/lib/python3.9/site-packages (from pandas<1.4,>=1.3.5->xport) (2021.3)\r\n",
      "Requirement already satisfied: numpy>=1.17.3 in /opt/conda/lib/python3.9/site-packages (from pandas<1.4,>=1.3.5->xport) (1.24.2)\r\n",
      "Requirement already satisfied: python-dateutil>=2.7.3 in /opt/conda/lib/python3.9/site-packages (from pandas<1.4,>=1.3.5->xport) (2.8.2)\r\n",
      "Requirement already satisfied: six>=1.5 in /opt/conda/lib/python3.9/site-packages (from python-dateutil>=2.7.3->pandas<1.4,>=1.3.5->xport) (1.16.0)\r\n"
     ]
    }
   ],
   "source": [
    "!pip install sas7bdat\n",
    "!pip install xport"
   ]
  },
  {
   "cell_type": "markdown",
   "id": "7f9db1e5-a5a7-4b29-a684-e4aa1299c17b",
   "metadata": {
    "papermill": {
     "duration": 0.002802,
     "end_time": "2023-11-10T16:04:49.434113",
     "exception": false,
     "start_time": "2023-11-10T16:04:49.431311",
     "status": "completed"
    },
    "tags": []
   },
   "source": [
    "## Funktioner \n",
    "\n",
    "För att läsa in data från bucket (minio) resp. att skriva till bucket.\n",
    "Indata kan vara av typ \"csv\", \"excel\", eller \"sas\"."
   ]
  },
  {
   "cell_type": "code",
   "execution_count": 3,
   "id": "7fe609f3-fb95-468e-8f96-e82f52b50429",
   "metadata": {
    "execution": {
     "iopub.execute_input": "2023-11-10T16:04:49.452592Z",
     "iopub.status.busy": "2023-11-10T16:04:49.451920Z",
     "iopub.status.idle": "2023-11-10T16:04:49.454776Z",
     "shell.execute_reply": "2023-11-10T16:04:49.454296Z"
    },
    "papermill": {
     "duration": 0.018148,
     "end_time": "2023-11-10T16:04:49.454924",
     "exception": false,
     "start_time": "2023-11-10T16:04:49.436776",
     "status": "completed"
    },
    "tags": []
   },
   "outputs": [],
   "source": [
    "# function to write object and tags\n",
    "\n",
    "def read_from_s3(bucket, filepath, datatype='csv'):\n",
    "    \"\"\"\n",
    "    Read a file from an S3 bucket.\n",
    "\n",
    "    :param bucket: The S3 bucket name.\n",
    "    :param filepath: The path to the file within the bucket.\n",
    "    :datatype: 'csv','excel',or 'sas'\n",
    "    :return: Pandas dataframe  or None if the file does not exist.\n",
    "    \"\"\"\n",
    "    # Create Minio client\n",
    "    client = Minio(\n",
    "        os.getenv(\"JUPYTERLAB_S3_ENDPOINT\").replace(\"http://\", \"\"),\n",
    "        secure=False,\n",
    "        access_key=os.getenv(\"JUPYTERLAB_S3_ACCESS_KEY_ID\"),\n",
    "        secret_key=os.getenv(\"JUPYTERLAB_S3_SECRET_ACCESS_KEY\"),\n",
    "    )\n",
    "\n",
    "    # Check if the bucket exists\n",
    "    found = client.bucket_exists(bucket)\n",
    "    if not found:\n",
    "        print(\"Bucket does not exist: %s\" % (bucket))\n",
    "        return None  # Failure\n",
    "\n",
    "    # Check if the object exists\n",
    "    try:\n",
    "        obj = client.get_object(bucket, filepath)\n",
    "        # Read the object into a bytes buffer\n",
    "        buffer = BytesIO(obj.read())\n",
    "        # Read the bytes buffer into a pandas dataframe\n",
    "        if datatype=='csv':\n",
    "            df = pd.read_csv(buffer)\n",
    "            return df\n",
    "        elif datatype == 'excel':\n",
    "            df = pd.read_excel(buffer)\n",
    "            return df\n",
    "        elif datatype == 'sas':\n",
    "            # create a temporary file\n",
    "            with tempfile.NamedTemporaryFile(mode=\"wb\", delete=False) as tmp:\n",
    "                # write the bytes data to the file\n",
    "                tmp.write(buffer.getvalue())\n",
    "                # get the file name\n",
    "                tmp_name = tmp.name\n",
    "            df, metadata = pyreadstat.read_sas7bdat(tmp_name)\n",
    "            return df\n",
    "        else:\n",
    "            print(\"Only csv, excel, or sas are accepted datatype. Please check your datatype.\")\n",
    "            return None\n",
    "    except Exception as e:\n",
    "        print(f\"Error reading file {filepath} from bucket {bucket}: {str(e)}\")\n",
    "        return None  # Failure\n",
    "\n",
    "def write_to_s3(bucket, filepath, tags={}, meta={}):\n",
    "    # create Minio client and init bucket if necessary\n",
    "    client = Minio(\n",
    "        os.getenv(\"JUPYTERLAB_S3_ENDPOINT\").replace(\"http://\", \"\"),\n",
    "        secure=False,\n",
    "        access_key=os.getenv(\"JUPYTERLAB_S3_ACCESS_KEY_ID\"),\n",
    "        secret_key=os.getenv(\"JUPYTERLAB_S3_SECRET_ACCESS_KEY\"),\n",
    "    )\n",
    "    found = client.bucket_exists(bucket)\n",
    "    if not found:\n",
    "        print(\"Bucket does not exist: %s\" % (bucket))\n",
    "        return False  # failure\n",
    "\n",
    "    # init tags\n",
    "    t = Tags(for_object=True)\n",
    "    for k, v in tags.items():\n",
    "        t[k] = v\n",
    "\n",
    "    with open(filepath, mode=\"rb\") as source_file:\n",
    "        contents = source_file.read()\n",
    "\n",
    "    client.put_object(\n",
    "        bucket,\n",
    "        filepath,\n",
    "        data=BytesIO(contents),\n",
    "        length=len(contents),\n",
    "        tags=t,\n",
    "        metadata=meta,\n",
    "        content_type='application/csv'\n",
    "    )\n",
    "    return True  # success"
   ]
  },
  {
   "cell_type": "markdown",
   "id": "3e0de376-2e86-4cfe-ac6e-35ac58d5cb2c",
   "metadata": {
    "papermill": {
     "duration": 0.002573,
     "end_time": "2023-11-10T16:04:49.460444",
     "exception": false,
     "start_time": "2023-11-10T16:04:49.457871",
     "status": "completed"
    },
    "tags": []
   },
   "source": [
    "### Ett exempel med SAS data"
   ]
  },
  {
   "cell_type": "code",
   "execution_count": 4,
   "id": "01fb2063-d9db-4b15-8a56-8fef4578a680",
   "metadata": {
    "execution": {
     "iopub.execute_input": "2023-11-10T16:04:49.470039Z",
     "iopub.status.busy": "2023-11-10T16:04:49.469437Z",
     "iopub.status.idle": "2023-11-10T16:04:49.471812Z",
     "shell.execute_reply": "2023-11-10T16:04:49.472281Z"
    },
    "papermill": {
     "duration": 0.009213,
     "end_time": "2023-11-10T16:04:49.472441",
     "exception": false,
     "start_time": "2023-11-10T16:04:49.463228",
     "status": "completed"
    },
    "tags": []
   },
   "outputs": [],
   "source": [
    "bucket_name = \"XXXX\"\n",
    "file_path_in_s3 = \"index_orig.sas7bdat\""
   ]
  },
  {
   "cell_type": "code",
   "execution_count": 5,
   "id": "23379a15-f154-4035-92bb-52b690fb23e0",
   "metadata": {
    "execution": {
     "iopub.execute_input": "2023-11-10T16:04:49.483608Z",
     "iopub.status.busy": "2023-11-10T16:04:49.480177Z",
     "iopub.status.idle": "2023-11-10T16:04:52.623680Z",
     "shell.execute_reply": "2023-11-10T16:04:52.622649Z"
    },
    "papermill": {
     "duration": 3.148684,
     "end_time": "2023-11-10T16:04:52.623821",
     "exception": false,
     "start_time": "2023-11-10T16:04:49.475137",
     "status": "completed"
    },
    "tags": []
   },
   "outputs": [
    {
     "data": {
      "text/html": [
       "<div>\n",
       "<style scoped>\n",
       "    .dataframe tbody tr th:only-of-type {\n",
       "        vertical-align: middle;\n",
       "    }\n",
       "\n",
       "    .dataframe tbody tr th {\n",
       "        vertical-align: top;\n",
       "    }\n",
       "\n",
       "    .dataframe thead th {\n",
       "        text-align: right;\n",
       "    }\n",
       "</style>\n",
       "<table border=\"1\" class=\"dataframe\">\n",
       "  <thead>\n",
       "    <tr style=\"text-align: right;\">\n",
       "      <th></th>\n",
       "      <th>factKlonKey</th>\n",
       "      <th>Period</th>\n",
       "      <th>VariableId</th>\n",
       "      <th>VariableName</th>\n",
       "      <th>MeasureValue</th>\n",
       "      <th>BranchGroupId</th>\n",
       "      <th>BranchName</th>\n",
       "      <th>BranchCode</th>\n",
       "      <th>OutClass</th>\n",
       "      <th>IsFinal</th>\n",
       "      <th>MarknadCode</th>\n",
       "      <th>MarknadName</th>\n",
       "    </tr>\n",
       "  </thead>\n",
       "  <tbody>\n",
       "    <tr>\n",
       "      <th>3583</th>\n",
       "      <td>1.088541e+09</td>\n",
       "      <td>2021M09</td>\n",
       "      <td>3.0</td>\n",
       "      <td>Prisindex</td>\n",
       "      <td>88.0</td>\n",
       "      <td>4132.0</td>\n",
       "      <td>Tillverkning av elektroniska komponenter och k...</td>\n",
       "      <td>26.1</td>\n",
       "      <td>26.1|5</td>\n",
       "      <td>0.0</td>\n",
       "      <td>5</td>\n",
       "      <td>Total (=Hemma+Export)</td>\n",
       "    </tr>\n",
       "    <tr>\n",
       "      <th>3584</th>\n",
       "      <td>1.138311e+09</td>\n",
       "      <td>2021M12</td>\n",
       "      <td>3.0</td>\n",
       "      <td>Prisindex</td>\n",
       "      <td>140.5</td>\n",
       "      <td>3949.0</td>\n",
       "      <td>Investeringsmetallvaruindustrin utom maskiner</td>\n",
       "      <td>25.1-4</td>\n",
       "      <td>25.1-4|5</td>\n",
       "      <td>0.0</td>\n",
       "      <td>5</td>\n",
       "      <td>Total (=Hemma+Export)</td>\n",
       "    </tr>\n",
       "    <tr>\n",
       "      <th>3585</th>\n",
       "      <td>1.219053e+09</td>\n",
       "      <td>2022M05</td>\n",
       "      <td>3.0</td>\n",
       "      <td>Prisindex</td>\n",
       "      <td>158.1</td>\n",
       "      <td>3949.0</td>\n",
       "      <td>Investeringsmetallvaruindustrin utom maskiner</td>\n",
       "      <td>25.1-4</td>\n",
       "      <td>25.1-4|5</td>\n",
       "      <td>0.0</td>\n",
       "      <td>5</td>\n",
       "      <td>Total (=Hemma+Export)</td>\n",
       "    </tr>\n",
       "    <tr>\n",
       "      <th>3586</th>\n",
       "      <td>1.219053e+09</td>\n",
       "      <td>2022M05</td>\n",
       "      <td>3.0</td>\n",
       "      <td>Prisindex</td>\n",
       "      <td>129.9</td>\n",
       "      <td>1977.0</td>\n",
       "      <td>Tillverkning av hushållsmaskiner och hushållsa...</td>\n",
       "      <td>27.5</td>\n",
       "      <td>27.5|5</td>\n",
       "      <td>0.0</td>\n",
       "      <td>5</td>\n",
       "      <td>Total (=Hemma+Export)</td>\n",
       "    </tr>\n",
       "    <tr>\n",
       "      <th>3587</th>\n",
       "      <td>1.219053e+09</td>\n",
       "      <td>2022M05</td>\n",
       "      <td>3.0</td>\n",
       "      <td>Prisindex</td>\n",
       "      <td>151.7</td>\n",
       "      <td>3467.0</td>\n",
       "      <td>Tillverkning av fartyg, båtar, rälsfordon, luf...</td>\n",
       "      <td>30.1-4</td>\n",
       "      <td>30.1-4|5</td>\n",
       "      <td>0.0</td>\n",
       "      <td>5</td>\n",
       "      <td>Total (=Hemma+Export)</td>\n",
       "    </tr>\n",
       "  </tbody>\n",
       "</table>\n",
       "</div>"
      ],
      "text/plain": [
       "       factKlonKey   Period  VariableId VariableName  MeasureValue  \\\n",
       "3583  1.088541e+09  2021M09         3.0    Prisindex          88.0   \n",
       "3584  1.138311e+09  2021M12         3.0    Prisindex         140.5   \n",
       "3585  1.219053e+09  2022M05         3.0    Prisindex         158.1   \n",
       "3586  1.219053e+09  2022M05         3.0    Prisindex         129.9   \n",
       "3587  1.219053e+09  2022M05         3.0    Prisindex         151.7   \n",
       "\n",
       "      BranchGroupId                                         BranchName  \\\n",
       "3583         4132.0  Tillverkning av elektroniska komponenter och k...   \n",
       "3584         3949.0      Investeringsmetallvaruindustrin utom maskiner   \n",
       "3585         3949.0      Investeringsmetallvaruindustrin utom maskiner   \n",
       "3586         1977.0  Tillverkning av hushållsmaskiner och hushållsa...   \n",
       "3587         3467.0  Tillverkning av fartyg, båtar, rälsfordon, luf...   \n",
       "\n",
       "     BranchCode  OutClass  IsFinal MarknadCode            MarknadName  \n",
       "3583       26.1    26.1|5      0.0           5  Total (=Hemma+Export)  \n",
       "3584     25.1-4  25.1-4|5      0.0           5  Total (=Hemma+Export)  \n",
       "3585     25.1-4  25.1-4|5      0.0           5  Total (=Hemma+Export)  \n",
       "3586       27.5    27.5|5      0.0           5  Total (=Hemma+Export)  \n",
       "3587     30.1-4  30.1-4|5      0.0           5  Total (=Hemma+Export)  "
      ]
     },
     "execution_count": 5,
     "metadata": {},
     "output_type": "execute_result"
    }
   ],
   "source": [
    "df = read_from_s3(bucket_name, file_path_in_s3, datatype=\"sas\")\n",
    "df.tail()"
   ]
  },
  {
   "cell_type": "markdown",
   "id": "55ea46d8-0a5c-4749-acd9-cdfb80ee2e10",
   "metadata": {
    "papermill": {
     "duration": 0.002937,
     "end_time": "2023-11-10T16:04:52.631186",
     "exception": false,
     "start_time": "2023-11-10T16:04:52.628249",
     "status": "completed"
    },
    "tags": []
   },
   "source": [
    "### Exempel med Excel fil"
   ]
  },
  {
   "cell_type": "code",
   "execution_count": 6,
   "id": "f9670d29-10db-4b4d-9856-074b866e4ac4",
   "metadata": {
    "execution": {
     "iopub.execute_input": "2023-11-10T16:04:52.652800Z",
     "iopub.status.busy": "2023-11-10T16:04:52.652146Z",
     "iopub.status.idle": "2023-11-10T16:04:52.654863Z",
     "shell.execute_reply": "2023-11-10T16:04:52.654378Z"
    },
    "papermill": {
     "duration": 0.010018,
     "end_time": "2023-11-10T16:04:52.655010",
     "exception": false,
     "start_time": "2023-11-10T16:04:52.644992",
     "status": "completed"
    },
    "tags": []
   },
   "outputs": [],
   "source": [
    "file2 = \"PrisIndex.xlsx\""
   ]
  },
  {
   "cell_type": "code",
   "execution_count": 7,
   "id": "28809643-6916-4d6f-9f93-e6d7f40e6e49",
   "metadata": {
    "execution": {
     "iopub.execute_input": "2023-11-10T16:04:52.673777Z",
     "iopub.status.busy": "2023-11-10T16:04:52.673105Z",
     "iopub.status.idle": "2023-11-10T16:04:56.288151Z",
     "shell.execute_reply": "2023-11-10T16:04:56.288659Z"
    },
    "papermill": {
     "duration": 3.630593,
     "end_time": "2023-11-10T16:04:56.288831",
     "exception": false,
     "start_time": "2023-11-10T16:04:52.658238",
     "status": "completed"
    },
    "tags": []
   },
   "outputs": [
    {
     "data": {
      "text/html": [
       "<div>\n",
       "<style scoped>\n",
       "    .dataframe tbody tr th:only-of-type {\n",
       "        vertical-align: middle;\n",
       "    }\n",
       "\n",
       "    .dataframe tbody tr th {\n",
       "        vertical-align: top;\n",
       "    }\n",
       "\n",
       "    .dataframe thead th {\n",
       "        text-align: right;\n",
       "    }\n",
       "</style>\n",
       "<table border=\"1\" class=\"dataframe\">\n",
       "  <thead>\n",
       "    <tr style=\"text-align: right;\">\n",
       "      <th></th>\n",
       "      <th>factKlonKey</th>\n",
       "      <th>Period</th>\n",
       "      <th>VariableId</th>\n",
       "      <th>VariableName</th>\n",
       "      <th>MeasureValue</th>\n",
       "      <th>BranchGroupId</th>\n",
       "      <th>BranchName</th>\n",
       "      <th>BranchCode</th>\n",
       "      <th>OutClass</th>\n",
       "      <th>IsFinal</th>\n",
       "      <th>MarknadCode</th>\n",
       "      <th>MarknadName</th>\n",
       "    </tr>\n",
       "  </thead>\n",
       "  <tbody>\n",
       "    <tr>\n",
       "      <th>3583</th>\n",
       "      <td>1088541491</td>\n",
       "      <td>2021M09</td>\n",
       "      <td>3</td>\n",
       "      <td>Prisindex</td>\n",
       "      <td>88.0</td>\n",
       "      <td>4132</td>\n",
       "      <td>Tillverkning av elektroniska komponenter och k...</td>\n",
       "      <td>26.1</td>\n",
       "      <td>26.1|5</td>\n",
       "      <td>0</td>\n",
       "      <td>5</td>\n",
       "      <td>Total (=Hemma+Export)</td>\n",
       "    </tr>\n",
       "    <tr>\n",
       "      <th>3584</th>\n",
       "      <td>1138310933</td>\n",
       "      <td>2021M12</td>\n",
       "      <td>3</td>\n",
       "      <td>Prisindex</td>\n",
       "      <td>140.5</td>\n",
       "      <td>3949</td>\n",
       "      <td>Investeringsmetallvaruindustrin utom maskiner</td>\n",
       "      <td>25.1-4</td>\n",
       "      <td>25.1-4|5</td>\n",
       "      <td>0</td>\n",
       "      <td>5</td>\n",
       "      <td>Total (=Hemma+Export)</td>\n",
       "    </tr>\n",
       "    <tr>\n",
       "      <th>3585</th>\n",
       "      <td>1219053228</td>\n",
       "      <td>2022M05</td>\n",
       "      <td>3</td>\n",
       "      <td>Prisindex</td>\n",
       "      <td>158.1</td>\n",
       "      <td>3949</td>\n",
       "      <td>Investeringsmetallvaruindustrin utom maskiner</td>\n",
       "      <td>25.1-4</td>\n",
       "      <td>25.1-4|5</td>\n",
       "      <td>0</td>\n",
       "      <td>5</td>\n",
       "      <td>Total (=Hemma+Export)</td>\n",
       "    </tr>\n",
       "    <tr>\n",
       "      <th>3586</th>\n",
       "      <td>1219053212</td>\n",
       "      <td>2022M05</td>\n",
       "      <td>3</td>\n",
       "      <td>Prisindex</td>\n",
       "      <td>129.9</td>\n",
       "      <td>1977</td>\n",
       "      <td>Tillverkning av hushållsmaskiner och hushållsa...</td>\n",
       "      <td>27.5</td>\n",
       "      <td>27.5|5</td>\n",
       "      <td>0</td>\n",
       "      <td>5</td>\n",
       "      <td>Total (=Hemma+Export)</td>\n",
       "    </tr>\n",
       "    <tr>\n",
       "      <th>3587</th>\n",
       "      <td>1219053223</td>\n",
       "      <td>2022M05</td>\n",
       "      <td>3</td>\n",
       "      <td>Prisindex</td>\n",
       "      <td>151.7</td>\n",
       "      <td>3467</td>\n",
       "      <td>Tillverkning av fartyg, båtar, rälsfordon, luf...</td>\n",
       "      <td>30.1-4</td>\n",
       "      <td>30.1-4|5</td>\n",
       "      <td>0</td>\n",
       "      <td>5</td>\n",
       "      <td>Total (=Hemma+Export)</td>\n",
       "    </tr>\n",
       "  </tbody>\n",
       "</table>\n",
       "</div>"
      ],
      "text/plain": [
       "      factKlonKey   Period  VariableId VariableName  MeasureValue  \\\n",
       "3583   1088541491  2021M09           3    Prisindex          88.0   \n",
       "3584   1138310933  2021M12           3    Prisindex         140.5   \n",
       "3585   1219053228  2022M05           3    Prisindex         158.1   \n",
       "3586   1219053212  2022M05           3    Prisindex         129.9   \n",
       "3587   1219053223  2022M05           3    Prisindex         151.7   \n",
       "\n",
       "      BranchGroupId                                         BranchName  \\\n",
       "3583           4132  Tillverkning av elektroniska komponenter och k...   \n",
       "3584           3949      Investeringsmetallvaruindustrin utom maskiner   \n",
       "3585           3949      Investeringsmetallvaruindustrin utom maskiner   \n",
       "3586           1977  Tillverkning av hushållsmaskiner och hushållsa...   \n",
       "3587           3467  Tillverkning av fartyg, båtar, rälsfordon, luf...   \n",
       "\n",
       "     BranchCode  OutClass  IsFinal  MarknadCode            MarknadName  \n",
       "3583       26.1    26.1|5        0            5  Total (=Hemma+Export)  \n",
       "3584     25.1-4  25.1-4|5        0            5  Total (=Hemma+Export)  \n",
       "3585     25.1-4  25.1-4|5        0            5  Total (=Hemma+Export)  \n",
       "3586       27.5    27.5|5        0            5  Total (=Hemma+Export)  \n",
       "3587     30.1-4  30.1-4|5        0            5  Total (=Hemma+Export)  "
      ]
     },
     "execution_count": 7,
     "metadata": {},
     "output_type": "execute_result"
    }
   ],
   "source": [
    "df2 = read_from_s3(bucket_name, file2, datatype=\"excel\")\n",
    "df2.tail()"
   ]
  },
  {
   "cell_type": "code",
   "execution_count": null,
   "id": "ac6ef98a-28d9-4a71-bca1-7faf04ae6447",
   "metadata": {
    "papermill": {
     "duration": 0.003094,
     "end_time": "2023-11-10T16:04:56.296375",
     "exception": false,
     "start_time": "2023-11-10T16:04:56.293281",
     "status": "completed"
    },
    "tags": []
   },
   "outputs": [],
   "source": []
  }
 ],
 "metadata": {
  "kernelspec": {
   "display_name": "Python 3 (ipykernel)",
   "language": "python",
   "name": "python3"
  },
  "language_info": {
   "codemirror_mode": {
    "name": "ipython",
    "version": 3
   },
   "file_extension": ".py",
   "mimetype": "text/x-python",
   "name": "python",
   "nbconvert_exporter": "python",
   "pygments_lexer": "ipython3",
   "version": "3.9.7"
  },
  "papermill": {
   "default_parameters": {},
   "duration": 15.076014,
   "end_time": "2023-11-10T16:04:56.516778",
   "environment_variables": {},
   "exception": null,
   "input_path": "XXXX",
   "output_path": "XXXX",
   "parameters": {},
   "start_time": "2023-11-10T16:04:41.440764",
   "version": "2.4.0"
  }
 },
 "nbformat": 4,
 "nbformat_minor": 5
}
