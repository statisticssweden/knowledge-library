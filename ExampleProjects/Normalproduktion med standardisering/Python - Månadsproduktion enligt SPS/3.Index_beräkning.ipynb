{
 "cells": [
  {
   "cell_type": "markdown",
   "id": "460b3d56-173d-4ecc-8316-cec0ddc6b596",
   "metadata": {
    "papermill": {
     "duration": 0.00177,
     "end_time": "2023-10-27T07:19:12.888269",
     "exception": false,
     "start_time": "2023-10-27T07:19:12.886499",
     "status": "completed"
    },
    "tags": []
   },
   "source": [
    "## Index beräkning \n",
    "\n",
    "Laspeyres Kedjeindex"
   ]
  },
  {
   "cell_type": "code",
   "execution_count": 1,
   "id": "0329f36d-e33c-49d8-a4de-216c0d6165be",
   "metadata": {
    "execution": {
     "iopub.execute_input": "2023-10-27T07:19:12.899255Z",
     "iopub.status.busy": "2023-10-27T07:19:12.898639Z",
     "iopub.status.idle": "2023-10-27T07:19:13.248702Z",
     "shell.execute_reply": "2023-10-27T07:19:13.248166Z"
    },
    "papermill": {
     "duration": 0.359064,
     "end_time": "2023-10-27T07:19:13.248856",
     "exception": false,
     "start_time": "2023-10-27T07:19:12.889792",
     "status": "completed"
    },
    "tags": []
   },
   "outputs": [
    {
     "data": {
      "text/html": [
       "<div>\n",
       "<style scoped>\n",
       "    .dataframe tbody tr th:only-of-type {\n",
       "        vertical-align: middle;\n",
       "    }\n",
       "\n",
       "    .dataframe tbody tr th {\n",
       "        vertical-align: top;\n",
       "    }\n",
       "\n",
       "    .dataframe thead th {\n",
       "        text-align: right;\n",
       "    }\n",
       "</style>\n",
       "<table border=\"1\" class=\"dataframe\">\n",
       "  <thead>\n",
       "    <tr style=\"text-align: right;\">\n",
       "      <th></th>\n",
       "      <th></th>\n",
       "      <th></th>\n",
       "      <th></th>\n",
       "      <th>ht_estimator</th>\n",
       "      <th>ht_variance_estimator</th>\n",
       "    </tr>\n",
       "    <tr>\n",
       "      <th>Year</th>\n",
       "      <th>Mon</th>\n",
       "      <th>Nace</th>\n",
       "      <th>SGrupp</th>\n",
       "      <th></th>\n",
       "      <th></th>\n",
       "    </tr>\n",
       "  </thead>\n",
       "  <tbody>\n",
       "    <tr>\n",
       "      <th rowspan=\"5\" valign=\"top\">2021</th>\n",
       "      <th rowspan=\"5\" valign=\"top\">12</th>\n",
       "      <th rowspan=\"5\" valign=\"top\">30</th>\n",
       "      <th>1</th>\n",
       "      <td>12654.2</td>\n",
       "      <td>1.595369e+08</td>\n",
       "    </tr>\n",
       "    <tr>\n",
       "      <th>2</th>\n",
       "      <td>5610.0</td>\n",
       "      <td>3.130920e+07</td>\n",
       "    </tr>\n",
       "    <tr>\n",
       "      <th>5</th>\n",
       "      <td>21584.0</td>\n",
       "      <td>4.646908e+08</td>\n",
       "    </tr>\n",
       "    <tr>\n",
       "      <th>6</th>\n",
       "      <td>74657.0</td>\n",
       "      <td>5.430961e+09</td>\n",
       "    </tr>\n",
       "    <tr>\n",
       "      <th>8</th>\n",
       "      <td>77154.0</td>\n",
       "      <td>5.383960e+09</td>\n",
       "    </tr>\n",
       "  </tbody>\n",
       "</table>\n",
       "</div>"
      ],
      "text/plain": [
       "                      ht_estimator  ht_variance_estimator\n",
       "Year Mon Nace SGrupp                                     \n",
       "2021 12  30   1            12654.2           1.595369e+08\n",
       "              2             5610.0           3.130920e+07\n",
       "              5            21584.0           4.646908e+08\n",
       "              6            74657.0           5.430961e+09\n",
       "              8            77154.0           5.383960e+09"
      ]
     },
     "execution_count": 1,
     "metadata": {},
     "output_type": "execute_result"
    }
   ],
   "source": [
    "import pandas as pd\n",
    "\n",
    "estim = pd.read_pickle('Estim.pkl')\n",
    "estim.tail()\n"
   ]
  },
  {
   "cell_type": "code",
   "execution_count": null,
   "id": "70d1e6ff-b758-4084-9395-945cb31fe787",
   "metadata": {
    "papermill": {
     "duration": 0.001388,
     "end_time": "2023-10-27T07:19:13.252161",
     "exception": false,
     "start_time": "2023-10-27T07:19:13.250773",
     "status": "completed"
    },
    "tags": []
   },
   "outputs": [],
   "source": []
  }
 ],
 "metadata": {
  "kernelspec": {
   "display_name": "Python 3 (ipykernel)",
   "language": "python",
   "name": "python3"
  },
  "language_info": {
   "codemirror_mode": {
    "name": "ipython",
    "version": 3
   },
   "file_extension": ".py",
   "mimetype": "text/x-python",
   "name": "python",
   "nbconvert_exporter": "python",
   "pygments_lexer": "ipython3",
   "version": "3.9.7"
  },
  "papermill": {
   "default_parameters": {},
   "duration": 1.523449,
   "end_time": "2023-10-27T07:19:13.471478",
   "environment_variables": {},
   "exception": null,
   "input_path": "/home/jovyan/demo-funktionalitet/exempelprojekt statistikproduktion/Normalproduktion med standardisering/produktion/Månadsproduktion enligt SPS/Python/Index_beräkning.ipynb",
   "output_path": "/home/jovyan/demo-funktionalitet/exempelprojekt statistikproduktion/Normalproduktion med standardisering/produktion/Månadsproduktion enligt SPS/Python/Index_beräkning.ipynb",
   "parameters": {},
   "start_time": "2023-10-27T07:19:11.948029",
   "version": "2.4.0"
  }
 },
 "nbformat": 4,
 "nbformat_minor": 5
}