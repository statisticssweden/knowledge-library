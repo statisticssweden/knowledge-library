{
 "cells": [
  {
   "cell_type": "code",
   "execution_count": 1,
   "id": "0e87a66f-8115-4bbd-9b7a-5687aca9a896",
   "metadata": {
    "tags": []
   },
   "outputs": [],
   "source": [
    "#!pip install pyscbwrapper\n",
    "#!pip install plotly\n",
    "\n",
    "from pyscbwrapper import SCB\n",
    "import pandas as pd\n",
    "from pandas import Series\n",
    "from plotly.subplots import make_subplots\n",
    "import plotly.graph_objects as go\n",
    "import plotly.express as px\n",
    "import matplotlib.pyplot as plt\n",
    "%matplotlib inline"
   ]
  },
  {
   "cell_type": "code",
   "execution_count": 11,
   "id": "5b7c4f32-1686-447a-a760-485be8c65266",
   "metadata": {
    "tags": []
   },
   "outputs": [
    {
     "name": "stdout",
     "output_type": "stream",
     "text": [
      "Befolkning i kollektivtrafiknära läge efter region, avstånd från hållplats, inom/utanför tätort, kön, tabellinnehåll och år\n"
     ]
    }
   ],
   "source": [
    "def get_col_names(pdColsData):\n",
    "    tableContent = 'tabellinnehåll'\n",
    "    keyNames = list(pdColsData.keys())\n",
    "    keyNames.remove(tableContent)\n",
    "    valNames = pdColsData[tableContent]\n",
    "    return keyNames + valNames\n",
    "\n",
    "\n",
    "def replace_value(poDf, plColNames, plColInfo, pnNameIdx, psValue, pnEntryIdx):\n",
    "    poDf[plColNames[pnNameIdx]].replace(\n",
    "        psValue,\n",
    "        plColInfo[plColNames[pnNameIdx]][pnEntryIdx],\n",
    "        inplace=True)\n",
    "\n",
    "\n",
    "def replace_values(poDf, plColNames, plColInfo, plOldValues):\n",
    "    for nRowIdx, lNames in enumerate(plOldValues):\n",
    "        for nIdx, sNewVal in enumerate(lNames):\n",
    "            replace_value(poDf, plColNames, plColInfo, nRowIdx, sNewVal, nIdx)\n",
    "\n",
    "\n",
    "'''\n",
    "def plot_graph(poDataFrame, plElectionTypes, psOrigin, psPlotValue):\n",
    "    for sElectionType in plElectionTypes:\n",
    "        oSeries = oDataFrame.loc[\n",
    "            (oDataFrame['val'] == sElectionType) &\n",
    "            (oDataFrame['inrikes/utrikes född'] == sOrigin),\n",
    "            ['kön', 'år', sPlotValue]]\n",
    "\n",
    "        oFig = px.histogram(oSeries, x=\"år\", y=sPlotValue, color='kön')\n",
    "        oFig.update_layout(\n",
    "            title=f\"{sPlotValue} för {sElectionType} - {sOrigin}\",\n",
    "            title_x=0.5,\n",
    "            width=800)\n",
    "        oFig.show()\n",
    "'''\n",
    "\n",
    "# move the cursor to the correct table\n",
    "oCursor = SCB('sv', 'MI', 'MI1303', 'BefKollnaraN')\n",
    "oInfo = oCursor.info()\n",
    "oData = oCursor.get_data()\n",
    "\n",
    "sTitle = oInfo['title']\n",
    "print(sTitle)\n",
    "\n",
    "oInfo['variables']\n",
    "\n",
    "\n",
    "c = '''\n",
    "print(oInfo['title'])\n",
    "print(oInfo['variables'][0]['text'] + ': ' +\n",
    "      ', '.join(oInfo['variables'][0]['values']) +\n",
    "      ' = ' +\n",
    "      ', '.join(oInfo['variables'][0]['valueTexts']))\n",
    "print(oInfo['variables'][1]['text'] + ': ' +\n",
    "      ', '.join(oInfo['variables'][1]['values']) +\n",
    "      ' = ' +\n",
    "      ', '.join(oInfo['variables'][1]['valueTexts']))\n",
    "print(oInfo['variables'][2]['text'] + ': ' +\n",
    "      ', '.join(oInfo['variables'][2]['values']) +\n",
    "      ' = ' +\n",
    "      ', '.join(oInfo['variables'][2]['valueTexts']))\n",
    "print(oInfo['variables'][4]['text'] + ': ' +\n",
    "      ', '.join(oInfo['variables'][4]['values']))\n",
    "print('*' * 150)\n",
    "\n",
    "lColInfo = oCursor.get_variables()\n",
    "lColNames = get_col_names(lColInfo)\n",
    "\n",
    "oData = oCursor.get_data()\n",
    "lData = list(map(lambda x: x['key'] + x['values'], oData['data']))\n",
    "\n",
    "oDataFrame = pd.DataFrame(lData, columns=lColNames)\n",
    "\n",
    "# correct values in data with those values from col info (variables)\n",
    "lOldValues = [['R', 'L', 'K'], ['13', '23'], ['2', '1']]\n",
    "replace_values(oDataFrame, lColNames, lColInfo, lOldValues)\n",
    "\n",
    "print(\"Första 10 rader i tabellen:\")\n",
    "oDataFrame.head(10)'''"
   ]
  },
  {
   "cell_type": "code",
   "execution_count": null,
   "id": "8c6bdf07-c97a-4146-94c6-b19a6f938fb3",
   "metadata": {},
   "outputs": [],
   "source": []
  }
 ],
 "metadata": {
  "kernelspec": {
   "display_name": "Python 3 (ipykernel)",
   "language": "python",
   "name": "python3"
  },
  "language_info": {
   "codemirror_mode": {
    "name": "ipython",
    "version": 3
   },
   "file_extension": ".py",
   "mimetype": "text/x-python",
   "name": "python",
   "nbconvert_exporter": "python",
   "pygments_lexer": "ipython3",
   "version": "3.9.7"
  }
 },
 "nbformat": 4,
 "nbformat_minor": 5
}
