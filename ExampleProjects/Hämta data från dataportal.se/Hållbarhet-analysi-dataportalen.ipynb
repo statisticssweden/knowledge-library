{
 "cells": [
  {
   "cell_type": "markdown",
   "id": "9cfc7bed-c70e-4d16-8dd3-7b456b1ef3ee",
   "metadata": {},
   "source": [
    "## Dataanalys med data från Dataportalen \n",
    "\n",
    "**Data: Utsläpp till luft av växthusgaser, el och fjärrvärme, ton CO2e**\n",
    "\n",
    "Länk: https://www.dataportal.se/sv/datasets/677_15041"
   ]
  },
  {
   "cell_type": "code",
   "execution_count": 39,
   "id": "e3319630-5e61-4490-b494-7a81c2b509db",
   "metadata": {
    "tags": []
   },
   "outputs": [],
   "source": [
    "import pandas as pd\n",
    "import numpy as np\n",
    "import matplotlib.pyplot as plt"
   ]
  },
  {
   "cell_type": "code",
   "execution_count": 13,
   "id": "cd660f58-d0b3-4281-84de-be4d8691f1bc",
   "metadata": {
    "tags": []
   },
   "outputs": [],
   "source": [
    "import requests"
   ]
  },
  {
   "cell_type": "code",
   "execution_count": 16,
   "id": "81b55edc-ffd9-4f6c-86f7-56a8701cca2f",
   "metadata": {
    "tags": []
   },
   "outputs": [
    {
     "name": "stdout",
     "output_type": "stream",
     "text": [
      "2\n"
     ]
    }
   ],
   "source": [
    "url = \"http://api.kolada.se/v2/data/kpi/N85536/year/2015\"\n",
    "\n",
    "response = requests.get(url)\n",
    "\n",
    "data = response.json()\n",
    "\n",
    "print(len(data))"
   ]
  },
  {
   "cell_type": "markdown",
   "id": "802ba130-1696-4e57-9331-0c8d27e236c8",
   "metadata": {},
   "source": [
    "**Vad har vi för variabler?**"
   ]
  },
  {
   "cell_type": "code",
   "execution_count": 17,
   "id": "e1fdeb58-f321-4c9a-a3ce-4f976c57bfef",
   "metadata": {
    "tags": []
   },
   "outputs": [
    {
     "data": {
      "text/plain": [
       "dict_keys(['count', 'values'])"
      ]
     },
     "execution_count": 17,
     "metadata": {},
     "output_type": "execute_result"
    }
   ],
   "source": [
    "data.keys()"
   ]
  },
  {
   "cell_type": "code",
   "execution_count": 18,
   "id": "a40fa400-d690-4fe7-b086-e8d177bd8011",
   "metadata": {
    "tags": []
   },
   "outputs": [
    {
     "data": {
      "text/plain": [
       "3621"
      ]
     },
     "execution_count": 18,
     "metadata": {},
     "output_type": "execute_result"
    }
   ],
   "source": [
    "data['count']"
   ]
  },
  {
   "cell_type": "code",
   "execution_count": 21,
   "id": "b9887f7d-ec6b-40c2-b05a-231a4557936c",
   "metadata": {},
   "outputs": [
    {
     "data": {
      "text/plain": [
       "list"
      ]
     },
     "execution_count": 21,
     "metadata": {},
     "output_type": "execute_result"
    }
   ],
   "source": [
    "type(data['values'])"
   ]
  },
  {
   "cell_type": "markdown",
   "id": "9e251e9f-51ed-43c8-92c4-2ee807fe165d",
   "metadata": {},
   "source": [
    "**Hur ser data ut?**"
   ]
  },
  {
   "cell_type": "code",
   "execution_count": 30,
   "id": "95b1e4dd-1e84-4516-a569-ad4bb36b0847",
   "metadata": {
    "tags": []
   },
   "outputs": [
    {
     "data": {
      "text/plain": [
       "{'kpi': 'N85536',\n",
       " 'municipality': 'G96416',\n",
       " 'period': 2015,\n",
       " 'values': [{'count': 5, 'gender': 'T', 'status': '', 'value': 155.53279682}]}"
      ]
     },
     "execution_count": 30,
     "metadata": {},
     "output_type": "execute_result"
    }
   ],
   "source": [
    "data['values'][data['count']-1]"
   ]
  },
  {
   "cell_type": "code",
   "execution_count": 26,
   "id": "03b714f5-977b-4ae8-980e-1331905b0529",
   "metadata": {
    "tags": []
   },
   "outputs": [
    {
     "data": {
      "text/plain": [
       "'0001'"
      ]
     },
     "execution_count": 26,
     "metadata": {},
     "output_type": "execute_result"
    }
   ],
   "source": [
    "data['values'][1]['municipality']"
   ]
  },
  {
   "cell_type": "markdown",
   "id": "748821e8-f531-4f54-b41a-946494d92bb4",
   "metadata": {},
   "source": [
    "**Hämta data som vi behöver**"
   ]
  },
  {
   "cell_type": "code",
   "execution_count": 31,
   "id": "ae37ce97-5816-4765-95f4-06e766205d6c",
   "metadata": {
    "tags": []
   },
   "outputs": [],
   "source": [
    "df_data = pd.DataFrame([data['values'][i]['municipality'] for i in range(data['count'])], columns=['Municipality'])"
   ]
  },
  {
   "cell_type": "code",
   "execution_count": 34,
   "id": "3413708e-9752-4f7f-a590-96da3f736768",
   "metadata": {
    "tags": []
   },
   "outputs": [],
   "source": [
    "df_data['Tid'] = pd.DataFrame([data['values'][i]['period'] for i in range(data['count'])])"
   ]
  },
  {
   "cell_type": "code",
   "execution_count": 36,
   "id": "25d62cb7-4abf-4924-9e83-446b7f7f690c",
   "metadata": {
    "tags": []
   },
   "outputs": [],
   "source": [
    "df_data['Value'] = pd.DataFrame([data['values'][i]['values'][0]['value'] for i in range(data['count'])])"
   ]
  },
  {
   "cell_type": "code",
   "execution_count": 37,
   "id": "caac8f1a-6899-47bc-9811-bc6e62dd944d",
   "metadata": {
    "tags": []
   },
   "outputs": [
    {
     "data": {
      "text/html": [
       "<div>\n",
       "<style scoped>\n",
       "    .dataframe tbody tr th:only-of-type {\n",
       "        vertical-align: middle;\n",
       "    }\n",
       "\n",
       "    .dataframe tbody tr th {\n",
       "        vertical-align: top;\n",
       "    }\n",
       "\n",
       "    .dataframe thead th {\n",
       "        text-align: right;\n",
       "    }\n",
       "</style>\n",
       "<table border=\"1\" class=\"dataframe\">\n",
       "  <thead>\n",
       "    <tr style=\"text-align: right;\">\n",
       "      <th></th>\n",
       "      <th>Municipality</th>\n",
       "      <th>Tid</th>\n",
       "      <th>Value</th>\n",
       "    </tr>\n",
       "  </thead>\n",
       "  <tbody>\n",
       "    <tr>\n",
       "      <th>0</th>\n",
       "      <td>0000</td>\n",
       "      <td>2015</td>\n",
       "      <td>6.123723e+06</td>\n",
       "    </tr>\n",
       "    <tr>\n",
       "      <th>1</th>\n",
       "      <td>0001</td>\n",
       "      <td>2015</td>\n",
       "      <td>1.174942e+06</td>\n",
       "    </tr>\n",
       "    <tr>\n",
       "      <th>2</th>\n",
       "      <td>0003</td>\n",
       "      <td>2015</td>\n",
       "      <td>3.342829e+05</td>\n",
       "    </tr>\n",
       "    <tr>\n",
       "      <th>3</th>\n",
       "      <td>0004</td>\n",
       "      <td>2015</td>\n",
       "      <td>1.293941e+04</td>\n",
       "    </tr>\n",
       "    <tr>\n",
       "      <th>4</th>\n",
       "      <td>0005</td>\n",
       "      <td>2015</td>\n",
       "      <td>4.802011e+05</td>\n",
       "    </tr>\n",
       "    <tr>\n",
       "      <th>...</th>\n",
       "      <td>...</td>\n",
       "      <td>...</td>\n",
       "      <td>...</td>\n",
       "    </tr>\n",
       "    <tr>\n",
       "      <th>3616</th>\n",
       "      <td>G96180</td>\n",
       "      <td>2015</td>\n",
       "      <td>3.230689e+03</td>\n",
       "    </tr>\n",
       "    <tr>\n",
       "      <th>3617</th>\n",
       "      <td>G96190</td>\n",
       "      <td>2015</td>\n",
       "      <td>2.951584e+04</td>\n",
       "    </tr>\n",
       "    <tr>\n",
       "      <th>3618</th>\n",
       "      <td>G96274</td>\n",
       "      <td>2015</td>\n",
       "      <td>1.718574e+04</td>\n",
       "    </tr>\n",
       "    <tr>\n",
       "      <th>3619</th>\n",
       "      <td>G96413</td>\n",
       "      <td>2015</td>\n",
       "      <td>4.740864e+03</td>\n",
       "    </tr>\n",
       "    <tr>\n",
       "      <th>3620</th>\n",
       "      <td>G96416</td>\n",
       "      <td>2015</td>\n",
       "      <td>1.555328e+02</td>\n",
       "    </tr>\n",
       "  </tbody>\n",
       "</table>\n",
       "<p>3621 rows × 3 columns</p>\n",
       "</div>"
      ],
      "text/plain": [
       "     Municipality   Tid         Value\n",
       "0            0000  2015  6.123723e+06\n",
       "1            0001  2015  1.174942e+06\n",
       "2            0003  2015  3.342829e+05\n",
       "3            0004  2015  1.293941e+04\n",
       "4            0005  2015  4.802011e+05\n",
       "...           ...   ...           ...\n",
       "3616       G96180  2015  3.230689e+03\n",
       "3617       G96190  2015  2.951584e+04\n",
       "3618       G96274  2015  1.718574e+04\n",
       "3619       G96413  2015  4.740864e+03\n",
       "3620       G96416  2015  1.555328e+02\n",
       "\n",
       "[3621 rows x 3 columns]"
      ]
     },
     "execution_count": 37,
     "metadata": {},
     "output_type": "execute_result"
    }
   ],
   "source": [
    "df_data"
   ]
  },
  {
   "cell_type": "code",
   "execution_count": 42,
   "id": "3a29aa64-4387-43ea-bfdf-84b35994458f",
   "metadata": {
    "tags": []
   },
   "outputs": [
    {
     "data": {
      "image/png": "[encoded data removed]",
      "text/plain": [
       "<Figure size 864x432 with 1 Axes>"
      ]
     },
     "metadata": {
      "needs_background": "light"
     },
     "output_type": "display_data"
    }
   ],
   "source": [
    "plt.figure(figsize=(12,6))\n",
    "plt.title(\"Utsläpp till luft av växthusgaser, el och fjärrvärme (år 2015)\")\n",
    "df_data.Value.plot()\n",
    "plt.ylabel(\"Ton CO2\")\n",
    "plt.xlabel(\"Olika Län, kommuner, städer, m.m.\")\n",
    "plt.show()\n",
    "\n"
   ]
  }
 ],
 "metadata": {
  "kernelspec": {
   "display_name": "Python 3 (ipykernel)",
   "language": "python",
   "name": "python3"
  },
  "language_info": {
   "codemirror_mode": {
    "name": "ipython",
    "version": 3
   },
   "file_extension": ".py",
   "mimetype": "text/x-python",
   "name": "python",
   "nbconvert_exporter": "python",
   "pygments_lexer": "ipython3",
   "version": "3.9.7"
  }
 },
 "nbformat": 4,
 "nbformat_minor": 5
}
