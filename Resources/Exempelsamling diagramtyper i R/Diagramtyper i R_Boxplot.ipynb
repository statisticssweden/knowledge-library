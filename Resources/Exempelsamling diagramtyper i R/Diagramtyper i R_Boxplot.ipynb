{
 "cells": [
  {
   "cell_type": "code",
   "execution_count": 1,
   "id": "c2d36a2a-16b5-48ae-ad62-5b99e5e9b56a",
   "metadata": {
    "tags": []
   },
   "outputs": [
    {
     "data": {
      "text/html": [
       "'Denna kod skapar en enkel boxplot med fiktiva data. Den första delen av koden skapar data med tre grupper (A, B och C) och slumpmässiga värden. Sedan används funktionen boxplot() för att skapa själva boxplotten. Value Group anger att vi vill skapa en boxplot baserad på värdet i variabeln Value och grupperna i variabeln Group. Parametrarna main, xlab och ylab används för att lägga till en titel och etiketter på axlarna för att förtydliga diagrammet.'"
      ],
      "text/latex": [
       "'Denna kod skapar en enkel boxplot med fiktiva data. Den första delen av koden skapar data med tre grupper (A, B och C) och slumpmässiga värden. Sedan används funktionen boxplot() för att skapa själva boxplotten. Value Group anger att vi vill skapa en boxplot baserad på värdet i variabeln Value och grupperna i variabeln Group. Parametrarna main, xlab och ylab används för att lägga till en titel och etiketter på axlarna för att förtydliga diagrammet.'"
      ],
      "text/markdown": [
       "'Denna kod skapar en enkel boxplot med fiktiva data. Den första delen av koden skapar data med tre grupper (A, B och C) och slumpmässiga värden. Sedan används funktionen boxplot() för att skapa själva boxplotten. Value Group anger att vi vill skapa en boxplot baserad på värdet i variabeln Value och grupperna i variabeln Group. Parametrarna main, xlab och ylab används för att lägga till en titel och etiketter på axlarna för att förtydliga diagrammet.'"
      ],
      "text/plain": [
       "[1] \"Denna kod skapar en enkel boxplot med fiktiva data. Den första delen av koden skapar data med tre grupper (A, B och C) och slumpmässiga värden. Sedan används funktionen boxplot() för att skapa själva boxplotten. Value Group anger att vi vill skapa en boxplot baserad på värdet i variabeln Value och grupperna i variabeln Group. Parametrarna main, xlab och ylab används för att lägga till en titel och etiketter på axlarna för att förtydliga diagrammet.\""
      ]
     },
     "metadata": {},
     "output_type": "display_data"
    },
    {
     "data": {
      "image/png": "[encoded data removed]",
      "text/plain": [
       "Plot with title “Exempel på boxplot”"
      ]
     },
     "metadata": {
      "image/png": {
       "height": 420,
       "width": 420
      }
     },
     "output_type": "display_data"
    }
   ],
   "source": [
    "#***********************************************************************************************\n",
    "# Titel: Exempel på diagramtyper i R - BOXPLOT \n",
    "# Beskrivning: Illustrera exempel med diagramtyper i R\n",
    "# Skapad av: Frank Weideskog(frank.weideskog@scb.se), ID: SCBFRWE\n",
    "# 2024-06-17 (SCBFRWE):En första version \n",
    "#*************************************************************************************************\n",
    "# Rensar minnet i R\n",
    "rm(list=ls())\t\t\t\t\n",
    "# ************************************************************************************************\n",
    "#Installerar/aktiverar relevanta R-paket (R-packages):\n",
    "#Görs i R-Base\n",
    "# ************************************************************************************************\n",
    "\n",
    "#BOXPLOT\n",
    "\n",
    "set.seed(123)\n",
    "data <- data.frame(\n",
    "  Group = rep(c(\"A\", \"B\", \"C\"), each = 50),\n",
    "  Value = c(rnorm(50), rnorm(50, mean = 1), rnorm(50, mean = 2))\n",
    ")\n",
    "\n",
    "# Skapa boxplot\n",
    "boxplot(Value ~ Group, data = data, \n",
    "        main = \"Exempel på boxplot\",\n",
    "        xlab = \"Grupp\",\n",
    "        ylab = \"Värde\")\n",
    "\n",
    "text<- 'Denna kod skapar en enkel boxplot med fiktiva data. Den första delen av koden skapar data med tre grupper (A, B och C) och slumpmässiga värden. Sedan används funktionen boxplot() för att skapa själva boxplotten. Value Group anger att vi vill skapa en boxplot baserad på värdet i variabeln Value och grupperna i variabeln Group. Parametrarna main, xlab och ylab används för att lägga till en titel och etiketter på axlarna för att förtydliga diagrammet.'\n",
    "\n",
    "text"
   ]
  }
 ],
 "metadata": {
  "kernelspec": {
   "display_name": "R",
   "language": "R",
   "name": "ir"
  },
  "language_info": {
   "codemirror_mode": "r",
   "file_extension": ".r",
   "mimetype": "text/x-r-source",
   "name": "R",
   "pygments_lexer": "r",
   "version": "4.2.3"
  },
  "toc-autonumbering": true
 },
 "nbformat": 4,
 "nbformat_minor": 5
}
