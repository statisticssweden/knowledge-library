{
 "cells": [
  {
   "cell_type": "code",
   "execution_count": 1,
   "id": "fdac760d-f64a-4e18-80e7-72336234b7b5",
   "metadata": {
    "tags": []
   },
   "outputs": [
    {
     "data": {
      "text/html": [
       "<span style=white-space:pre-wrap>'En treemap är en visualiseringstyp som används för att visa hierarkiska datastrukturer. Den visar hierarkin som en serie av rektangulära områden, där varje rektangel representerar en nod i hierarkin. Storleken på varje rektangel motsvarar en  numerisk eller kvantitativ variabel, och färgen kan användas för att ange en annan variabel. Treemaps är användbara för att visualisera och jämföra stora mängder data på ett överskådligt sätt. De är särskilt effektiva för att visa hierarkiska strukturer, såsom filsystem, organisationsstrukturer, eller ekonomiska data.'</span>"
      ],
      "text/latex": [
       "'En treemap är en visualiseringstyp som används för att visa hierarkiska datastrukturer. Den visar hierarkin som en serie av rektangulära områden, där varje rektangel representerar en nod i hierarkin. Storleken på varje rektangel motsvarar en  numerisk eller kvantitativ variabel, och färgen kan användas för att ange en annan variabel. Treemaps är användbara för att visualisera och jämföra stora mängder data på ett överskådligt sätt. De är särskilt effektiva för att visa hierarkiska strukturer, såsom filsystem, organisationsstrukturer, eller ekonomiska data.'"
      ],
      "text/markdown": [
       "<span style=white-space:pre-wrap>'En treemap är en visualiseringstyp som används för att visa hierarkiska datastrukturer. Den visar hierarkin som en serie av rektangulära områden, där varje rektangel representerar en nod i hierarkin. Storleken på varje rektangel motsvarar en  numerisk eller kvantitativ variabel, och färgen kan användas för att ange en annan variabel. Treemaps är användbara för att visualisera och jämföra stora mängder data på ett överskådligt sätt. De är särskilt effektiva för att visa hierarkiska strukturer, såsom filsystem, organisationsstrukturer, eller ekonomiska data.'</span>"
      ],
      "text/plain": [
       "[1] \"En treemap är en visualiseringstyp som används för att visa hierarkiska datastrukturer. Den visar hierarkin som en serie av rektangulära områden, där varje rektangel representerar en nod i hierarkin. Storleken på varje rektangel motsvarar en  numerisk eller kvantitativ variabel, och färgen kan användas för att ange en annan variabel. Treemaps är användbara för att visualisera och jämföra stora mängder data på ett överskådligt sätt. De är särskilt effektiva för att visa hierarkiska strukturer, såsom filsystem, organisationsstrukturer, eller ekonomiska data.\""
      ]
     },
     "metadata": {},
     "output_type": "display_data"
    },
    {
     "data": {
      "image/png": "[encoded data removed]",
      "text/plain": [
       "plot without title"
      ]
     },
     "metadata": {
      "image/png": {
       "height": 420,
       "width": 420
      }
     },
     "output_type": "display_data"
    }
   ],
   "source": [
    "# ***********************************************************************************************\n",
    "# Titel: Exempel på diagramtyper i R - TREEMAP\n",
    "# Beskrivning: Illustrera exempel med diagramtyper i R\n",
    "# Skapad av: Frank Weideskog(frank.weideskog@scb.se), ID: SCBFRWE\n",
    "# 2024-06-17 (SCBFRWE):En första version \n",
    "#*************************************************************************************************\n",
    "# Rensar minnet i R\n",
    "rm(list=ls())\t\t\t\t\n",
    "# ************************************************************************************************\n",
    "#Installerar/aktiverar relevanta R-paket (R-packages):\n",
    "suppressMessages({\n",
    "  install.packages(\"treemap\")\n",
    "  library(treemap)\n",
    "})   \n",
    "# ************************************************************************************************\n",
    "\n",
    "#TREEMAP\n",
    "\n",
    "# Install and load necessary package\n",
    "#install.packages(\"treemap\")\n",
    "library(treemap)\n",
    "\n",
    "# Create a dataset to use in treemap\n",
    "data(\"mtcars\")\n",
    "\n",
    "# Create treemap\n",
    "treemap(mtcars, \n",
    "        index=c(\"cyl\", \"gear\"), \n",
    "        vSize=\"mpg\", \n",
    "        vColor=\"wt\")\n",
    "\n",
    "text <- 'En treemap är en visualiseringstyp som används för att visa hierarkiska datastrukturer. Den visar hierarkin som en serie av rektangulära områden, där varje rektangel representerar en nod i hierarkin. Storleken på varje rektangel motsvarar en  numerisk eller kvantitativ variabel, och färgen kan användas för att ange en annan variabel. Treemaps är användbara för att visualisera och jämföra stora mängder data på ett överskådligt sätt. De är särskilt effektiva för att visa hierarkiska strukturer, såsom filsystem, organisationsstrukturer, eller ekonomiska data.'\n",
    "text"
   ]
  }
 ],
 "metadata": {
  "kernelspec": {
   "display_name": "R",
   "language": "R",
   "name": "ir"
  },
  "language_info": {
   "codemirror_mode": "r",
   "file_extension": ".r",
   "mimetype": "text/x-r-source",
   "name": "R",
   "pygments_lexer": "r",
   "version": "4.2.3"
  }
 },
 "nbformat": 4,
 "nbformat_minor": 5
}
