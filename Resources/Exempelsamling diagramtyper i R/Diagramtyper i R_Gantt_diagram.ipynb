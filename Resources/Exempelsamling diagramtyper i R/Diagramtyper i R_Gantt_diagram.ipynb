{
 "cells": [
  {
   "cell_type": "code",
   "execution_count": 1,
   "id": "31a65f6d-508d-4b5d-bb71-466a67f03ab6",
   "metadata": {
    "tags": []
   },
   "outputs": [
    {
     "data": {
      "text/html": [
       "'Detta skapar ett enkelt Gantt-diagram med fyra olika uppgifter som sträcker sig över olika tidsperioder. Man kan anpassa detta exempel med egna data och behov för att skapa ett Gantt-diagram för ett projekt.'"
      ],
      "text/latex": [
       "'Detta skapar ett enkelt Gantt-diagram med fyra olika uppgifter som sträcker sig över olika tidsperioder. Man kan anpassa detta exempel med egna data och behov för att skapa ett Gantt-diagram för ett projekt.'"
      ],
      "text/markdown": [
       "'Detta skapar ett enkelt Gantt-diagram med fyra olika uppgifter som sträcker sig över olika tidsperioder. Man kan anpassa detta exempel med egna data och behov för att skapa ett Gantt-diagram för ett projekt.'"
      ],
      "text/plain": [
       "[1] \"Detta skapar ett enkelt Gantt-diagram med fyra olika uppgifter som sträcker sig över olika tidsperioder. Man kan anpassa detta exempel med egna data och behov för att skapa ett Gantt-diagram för ett projekt.\""
      ]
     },
     "metadata": {},
     "output_type": "display_data"
    },
    {
     "data": {
      "image/png": "[encoded data removed]",
      "text/plain": [
       "plot without title"
      ]
     },
     "metadata": {
      "image/png": {
       "height": 420,
       "width": 420
      }
     },
     "output_type": "display_data"
    }
   ],
   "source": [
    "# ***********************************************************************************************\n",
    "# Titel: Exempel på diagramtyper i R - GANTT-DIAGRAM \n",
    "# Beskrivning: Illustrera exempel med diagramtyper i R\n",
    "# Skapad av: Frank Weideskog(frank.weideskog@scb.se), ID: SCBFRWE\n",
    "# 2024-06-17 (SCBFRWE):En första version \n",
    "#*************************************************************************************************\n",
    "# Rensar minnet i R\n",
    "rm(list=ls())\t\t\t\t\n",
    "# ************************************************************************************************\n",
    "#Installerar/aktiverar relevanta R-paket (R-packages):\n",
    "suppressMessages({\n",
    "  install.packages(\"ggplot2\")\n",
    "  library(ggplot2)\n",
    "})   \n",
    "# ************************************************************************************************\n",
    "\n",
    "#GANTT-DIAGRAM\n",
    "\n",
    "# Skapa exempeldata för Gantt-diagram\n",
    "data <- data.frame(\n",
    "  Task = c(\"Task 1\", \"Task 2\", \"Task 3\", \"Task 4\"),\n",
    "  Start = as.POSIXct(c(\"2024-03-01\", \"2024-03-05\", \"2024-03-10\", \"2024-03-15\")),\n",
    "  End = as.POSIXct(c(\"2024-03-04\", \"2024-03-08\", \"2024-03-15\", \"2024-03-20\"))\n",
    ")\n",
    "\n",
    "# Skapa Gantt-diagram med ggplot2\n",
    "ggplot(data, aes(y = Task, x = Start, xend = End, yend = Task)) +\n",
    "  geom_segment(linewidth = 5) +\n",
    "  labs(\n",
    "    title = \"Gantt Diagram\",\n",
    "    x = \"Datum\",\n",
    "    y = \"Uppgift\"\n",
    "  )\n",
    "\n",
    "text<-'Detta skapar ett enkelt Gantt-diagram med fyra olika uppgifter som sträcker sig över olika tidsperioder. Man kan anpassa detta exempel med egna data och behov för att skapa ett Gantt-diagram för ett projekt.'\n",
    "text"
   ]
  }
 ],
 "metadata": {
  "kernelspec": {
   "display_name": "R",
   "language": "R",
   "name": "ir"
  },
  "language_info": {
   "codemirror_mode": "r",
   "file_extension": ".r",
   "mimetype": "text/x-r-source",
   "name": "R",
   "pygments_lexer": "r",
   "version": "4.2.3"
  }
 },
 "nbformat": 4,
 "nbformat_minor": 5
}
