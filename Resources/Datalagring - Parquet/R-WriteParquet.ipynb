{
 "cells": [
  {
   "cell_type": "code",
   "execution_count": 6,
   "id": "c3cad841-b6b5-4b3d-8c7c-df73ce29429d",
   "metadata": {
    "tags": []
   },
   "outputs": [],
   "source": [
    "library(arrow) # arrow_info()\n",
    "write_parquet(data.frame(x = 1:5), \"r-arrow.parquet\")"
   ]
  }
 ],
 "metadata": {
  "kernelspec": {
   "display_name": "R",
   "language": "R",
   "name": "ir"
  },
  "language_info": {
   "codemirror_mode": "r",
   "file_extension": ".r",
   "mimetype": "text/x-r-source",
   "name": "R",
   "pygments_lexer": "r",
   "version": "4.2.3"
  }
 },
 "nbformat": 4,
 "nbformat_minor": 5
}
