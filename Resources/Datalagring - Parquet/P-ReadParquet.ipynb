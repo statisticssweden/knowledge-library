{
 "cells": [
  {
   "cell_type": "code",
   "execution_count": 1,
   "id": "edd82554-e168-46d3-8673-d45e19222a55",
   "metadata": {
    "execution": {
     "iopub.execute_input": "2023-04-14T12:35:46.763264Z",
     "iopub.status.busy": "2023-04-14T12:35:46.762473Z",
     "iopub.status.idle": "2023-04-14T12:35:47.234762Z",
     "shell.execute_reply": "2023-04-14T12:35:47.234139Z"
    },
    "papermill": {
     "duration": 0.481692,
     "end_time": "2023-04-14T12:35:47.234908",
     "exception": false,
     "start_time": "2023-04-14T12:35:46.753216",
     "status": "completed"
    },
    "tags": []
   },
   "outputs": [
    {
     "data": {
      "text/html": [
       "<div>\n",
       "<style scoped>\n",
       "    .dataframe tbody tr th:only-of-type {\n",
       "        vertical-align: middle;\n",
       "    }\n",
       "\n",
       "    .dataframe tbody tr th {\n",
       "        vertical-align: top;\n",
       "    }\n",
       "\n",
       "    .dataframe thead th {\n",
       "        text-align: right;\n",
       "    }\n",
       "</style>\n",
       "<table border=\"1\" class=\"dataframe\">\n",
       "  <thead>\n",
       "    <tr style=\"text-align: right;\">\n",
       "      <th></th>\n",
       "      <th>Name</th>\n",
       "      <th>Age</th>\n",
       "    </tr>\n",
       "  </thead>\n",
       "  <tbody>\n",
       "    <tr>\n",
       "      <th>0</th>\n",
       "      <td>dom</td>\n",
       "      <td>10</td>\n",
       "    </tr>\n",
       "    <tr>\n",
       "      <th>1</th>\n",
       "      <td>abhi</td>\n",
       "      <td>15</td>\n",
       "    </tr>\n",
       "    <tr>\n",
       "      <th>2</th>\n",
       "      <td>celeste</td>\n",
       "      <td>14</td>\n",
       "    </tr>\n",
       "  </tbody>\n",
       "</table>\n",
       "</div>"
      ],
      "text/plain": [
       "      Name  Age\n",
       "0      dom   10\n",
       "1     abhi   15\n",
       "2  celeste   14"
      ]
     },
     "execution_count": 1,
     "metadata": {},
     "output_type": "execute_result"
    }
   ],
   "source": [
    "#pip install pyarrow # only if pyarrow is not installed yet!\n",
    "\n",
    "# Example with pandas *****************************************************************\n",
    "import pandas as pd\n",
    "pd.read_parquet('p-pandas.parquet', engine='pyarrow')"
   ]
  }
 ],
 "metadata": {
  "kernelspec": {
   "display_name": "Python 3 (ipykernel)",
   "language": "python",
   "name": "python3"
  },
  "language_info": {
   "codemirror_mode": {
    "name": "ipython",
    "version": 3
   },
   "file_extension": ".py",
   "mimetype": "text/x-python",
   "name": "python",
   "nbconvert_exporter": "python",
   "pygments_lexer": "ipython3",
   "version": "3.9.7"
  },
  "papermill": {
   "default_parameters": {},
   "duration": 1.935557,
   "end_time": "2023-04-14T12:35:47.557269",
   "environment_variables": {},
   "exception": null,
   "input_path": "/home/jovyan/demo-funktionalitet/production/P-ReadParquet.ipynb",
   "output_path": "/home/jovyan/demo-funktionalitet/production/P-ReadParquet.ipynb",
   "parameters": {},
   "start_time": "2023-04-14T12:35:45.621712",
   "version": "2.4.0"
  }
 },
 "nbformat": 4,
 "nbformat_minor": 5
}
