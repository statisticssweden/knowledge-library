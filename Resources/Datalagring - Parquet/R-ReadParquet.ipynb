{
 "cells": [
  {
   "cell_type": "code",
   "execution_count": 1,
   "id": "0faa0fd9-7b9f-4339-8f74-93c0fb07453a",
   "metadata": {
    "execution": {
     "iopub.execute_input": "2023-04-14T13:11:19.545805Z",
     "iopub.status.busy": "2023-04-14T13:11:19.541224Z",
     "iopub.status.idle": "2023-04-14T13:11:19.867096Z",
     "shell.execute_reply": "2023-04-14T13:11:19.865878Z"
    },
    "papermill": {
     "duration": 0.334047,
     "end_time": "2023-04-14T13:11:19.867246",
     "exception": false,
     "start_time": "2023-04-14T13:11:19.533199",
     "status": "completed"
    },
    "tags": []
   },
   "outputs": [
    {
     "name": "stderr",
     "output_type": "stream",
     "text": [
      "\n",
      "Attaching package: ‘arrow’\n",
      "\n",
      "\n",
      "The following object is masked from ‘package:utils’:\n",
      "\n",
      "    timestamp\n",
      "\n",
      "\n"
     ]
    },
    {
     "data": {
      "text/html": [
       "<table class=\"dataframe\">\n",
       "<caption>A tibble: 3 × 2</caption>\n",
       "<thead>\n",
       "\t<tr><th scope=col>Name</th><th scope=col>Age</th></tr>\n",
       "\t<tr><th scope=col>&lt;chr&gt;</th><th scope=col>&lt;int&gt;</th></tr>\n",
       "</thead>\n",
       "<tbody>\n",
       "\t<tr><td>dom    </td><td>10</td></tr>\n",
       "\t<tr><td>abhi   </td><td>15</td></tr>\n",
       "\t<tr><td>celeste</td><td>14</td></tr>\n",
       "</tbody>\n",
       "</table>\n"
      ],
      "text/latex": [
       "A tibble: 3 × 2\n",
       "\\begin{tabular}{ll}\n",
       " Name & Age\\\\\n",
       " <chr> & <int>\\\\\n",
       "\\hline\n",
       "\t dom     & 10\\\\\n",
       "\t abhi    & 15\\\\\n",
       "\t celeste & 14\\\\\n",
       "\\end{tabular}\n"
      ],
      "text/markdown": [
       "\n",
       "A tibble: 3 × 2\n",
       "\n",
       "| Name &lt;chr&gt; | Age &lt;int&gt; |\n",
       "|---|---|\n",
       "| dom     | 10 |\n",
       "| abhi    | 15 |\n",
       "| celeste | 14 |\n",
       "\n"
      ],
      "text/plain": [
       "  Name    Age\n",
       "1 dom     10 \n",
       "2 abhi    15 \n",
       "3 celeste 14 "
      ]
     },
     "metadata": {},
     "output_type": "display_data"
    }
   ],
   "source": [
    "library(arrow) # arrow_info()\n",
    "read_parquet(\"pipeline.parquet\")"
   ]
  }
 ],
 "metadata": {
  "kernelspec": {
   "display_name": "R",
   "language": "R",
   "name": "ir"
  },
  "language_info": {
   "codemirror_mode": "r",
   "file_extension": ".r",
   "mimetype": "text/x-r-source",
   "name": "R",
   "pygments_lexer": "r",
   "version": "4.2.3"
  },
  "papermill": {
   "default_parameters": {},
   "duration": 1.784719,
   "end_time": "2023-04-14T13:11:20.004761",
   "environment_variables": {},
   "exception": null,
   "input_path": "/home/jovyan/demo-funktionalitet/production/R-ReadParquet.ipynb",
   "output_path": "/home/jovyan/demo-funktionalitet/production/R-ReadParquet.ipynb",
   "parameters": {},
   "start_time": "2023-04-14T13:11:18.220042",
   "version": "2.4.0"
  }
 },
 "nbformat": 4,
 "nbformat_minor": 5
}
