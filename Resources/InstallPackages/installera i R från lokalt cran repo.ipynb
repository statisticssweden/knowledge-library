{
 "cells": [
  {
   "cell_type": "markdown",
   "id": "b15cea26-68a4-4fc0-ba3e-33f107db4ca6",
   "metadata": {},
   "source": [
    "# Installera R\n",
    "\n",
    "För kännedom, både CRAN- och condaspeglar finns lokalt och kan kommas åt från Balsam.\n",
    "\n",
    "För att installera från CRAN skriver ni i en notebook med R-kernel\n"
   ]
  },
  {
   "cell_type": "code",
   "execution_count": 4,
   "id": "eead3ed3-f73b-48d2-9485-930a7c066114",
   "metadata": {
    "tags": []
   },
   "outputs": [
    {
     "name": "stderr",
     "output_type": "stream",
     "text": [
      "also installing the dependency ‘checkmate’\n",
      "\n",
      "\n",
      "Updating HTML index of packages in '.Library'\n",
      "\n",
      "Making 'packages.html' ...\n",
      " done\n",
      "\n"
     ]
    }
   ],
   "source": [
    "install.packages(\"gt\", repos=\"http://tsta251.scb.intra/cran\")\n"
   ]
  },
  {
   "cell_type": "code",
   "execution_count": null,
   "id": "b8c2b31f-6757-400a-a1e9-819dccf13b10",
   "metadata": {},
   "outputs": [],
   "source": []
  }
 ],
 "metadata": {
  "kernelspec": {
   "display_name": "R",
   "language": "R",
   "name": "ir"
  },
  "language_info": {
   "codemirror_mode": "r",
   "file_extension": ".r",
   "mimetype": "text/x-r-source",
   "name": "R",
   "pygments_lexer": "r",
   "version": "4.2.3"
  }
 },
 "nbformat": 4,
 "nbformat_minor": 5
}
