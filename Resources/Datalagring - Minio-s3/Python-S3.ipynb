{
 "cells": [
  {
   "cell_type": "code",
   "execution_count": 1,
   "id": "7ec13d69-8c40-44ae-90ab-2acaf57dca02",
   "metadata": {
    "tags": []
   },
   "outputs": [],
   "source": [
    "# function to write object and tags\n",
    "from minio import Minio\n",
    "from minio.commonconfig import Tags\n",
    "from io import BytesIO\n",
    "import os\n",
    "\n",
    "\n",
    "def write_to_s3(bucket, filepath, tags={}, meta={}):\n",
    "    # create Minio client and init bucket if necessary\n",
    "    client = Minio(\n",
    "        os.getenv(\"JUPYTERLAB_S3_ENDPOINT\").replace(\"http://\", \"\"),\n",
    "        secure=False,\n",
    "        access_key=os.getenv(\"JUPYTERLAB_S3_ACCESS_KEY_ID\"),\n",
    "        secret_key=os.getenv(\"JUPYTERLAB_S3_SECRET_ACCESS_KEY\"),\n",
    "    )\n",
    "    found = client.bucket_exists(bucket)\n",
    "    if not found:\n",
    "        print(\"Bucket does not exist: %s\" % (bucket))\n",
    "        return False  # failure\n",
    "\n",
    "    # init tags\n",
    "    t = Tags(for_object=True)\n",
    "    for k, v in tags.items():\n",
    "        t[k] = v\n",
    "\n",
    "    with open(filepath, mode=\"rb\") as source_file:\n",
    "        contents = source_file.read()\n",
    "\n",
    "    client.put_object(\n",
    "        bucket,\n",
    "        filepath,\n",
    "        data=BytesIO(contents),\n",
    "        length=len(contents),\n",
    "        tags=t,\n",
    "        metadata=meta,\n",
    "        content_type='application/csv'\n",
    "    )\n",
    "    return True  # success"
   ]
  },
  {
   "cell_type": "code",
   "execution_count": 2,
   "id": "e492a6fd-fa26-46c8-a06d-65853a1e8c40",
   "metadata": {
    "tags": []
   },
   "outputs": [
    {
     "data": {
      "text/plain": [
       "True"
      ]
     },
     "execution_count": 2,
     "metadata": {},
     "output_type": "execute_result"
    }
   ],
   "source": [
    "write_to_s3(\n",
    "    bucket=\"XXXX\", # Use correct bucket\n",
    "    filepath=\"filtest.txt\",\n",
    "    tags={\"color\": \"red\", \"size\": \"small\"},\n",
    "    meta={\"cat\": \"meow\", \"dog\": \"woof\", \"horse\": \"neigh\"})"
   ]
  },
  {
   "cell_type": "code",
   "execution_count": 4,
   "id": "941a3410-f60f-4ef2-b231-3368999e0756",
   "metadata": {
    "tags": []
   },
   "outputs": [],
   "source": [
    "\n",
    "def read_from_s3(bucket, filepath):\n",
    "    \"\"\"\n",
    "    Read a file from an S3 bucket.\n",
    "\n",
    "    :param bucket: The S3 bucket name.\n",
    "    :param filepath: The path to the file within the bucket.\n",
    "    :return: The file's contents or None if the file does not exist.\n",
    "    \"\"\"\n",
    "    # Create Minio client\n",
    "    client = Minio(\n",
    "        os.getenv(\"JUPYTERLAB_S3_ENDPOINT\").replace(\"http://\", \"\"),\n",
    "        secure=False,\n",
    "        access_key=os.getenv(\"JUPYTERLAB_S3_ACCESS_KEY_ID\"),\n",
    "        secret_key=os.getenv(\"JUPYTERLAB_S3_SECRET_ACCESS_KEY\"),\n",
    "    )\n",
    "\n",
    "    # Check if the bucket exists\n",
    "    found = client.bucket_exists(bucket)\n",
    "    if not found:\n",
    "        print(\"Bucket does not exist: %s\" % (bucket))\n",
    "        return None  # Failure\n",
    "\n",
    "    # Check if the object exists\n",
    "    try:\n",
    "        obj = client.get_object(bucket, filepath)\n",
    "        return obj.read()\n",
    "    except Exception as e:\n",
    "        print(f\"Error reading file {filepath} from bucket {bucket}: {str(e)}\")\n",
    "        return None  # Failure\n"
   ]
  },
  {
   "cell_type": "code",
   "execution_count": 5,
   "id": "cb3cdf3d-d11f-4067-91fc-1f05919a5ac7",
   "metadata": {
    "tags": []
   },
   "outputs": [
    {
     "name": "stdout",
     "output_type": "stream",
     "text": [
      "Contents of filtest.txt:\n",
      "\n",
      "här är innehållet\n"
     ]
    }
   ],
   "source": [
    "\n",
    "# Example usage:\n",
    "bucket_name = \"demo-funktionalitet\"\n",
    "file_path_in_s3 = \"filtest.txt\"\n",
    "contents = read_from_s3(bucket_name, file_path_in_s3)\n",
    "\n",
    "if contents:\n",
    "    print(f\"Contents of {file_path_in_s3}:\\n\")\n",
    "    print(contents.decode())\n",
    "else:\n",
    "    print(f\"Failed to read {file_path_in_s3} from {bucket_name}.\")"
   ]
  }
 ],
 "metadata": {
  "kernelspec": {
   "display_name": "Python 3 (ipykernel)",
   "language": "python",
   "name": "python3"
  },
  "language_info": {
   "codemirror_mode": {
    "name": "ipython",
    "version": 3
   },
   "file_extension": ".py",
   "mimetype": "text/x-python",
   "name": "python",
   "nbconvert_exporter": "python",
   "pygments_lexer": "ipython3",
   "version": "3.9.7"
  }
 },
 "nbformat": 4,
 "nbformat_minor": 5
}
