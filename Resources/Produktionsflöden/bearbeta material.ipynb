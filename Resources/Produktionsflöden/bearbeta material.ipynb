{
 "cells": [
  {
   "cell_type": "code",
   "execution_count": 1,
   "id": "ee62c882-9280-44b4-ae6c-c11121db001d",
   "metadata": {},
   "outputs": [
    {
     "name": "stdout",
     "output_type": "stream",
     "text": [
      "  Category  Value\n",
      "0        A     10\n",
      "1        B     15\n",
      "2        C      8\n",
      "3        D     12\n",
      "4        E     17\n",
      "5        F      6\n",
      "6        G     22\n",
      "7        H     14\n",
      "8        I      9\n",
      "9        J     18\n"
     ]
    },
    {
     "data": {
      "image/png": "[encoded data removed]",
      "text/plain": [
       "<Figure size 432x288 with 1 Axes>"
      ]
     },
     "metadata": {
      "needs_background": "light"
     },
     "output_type": "display_data"
    }
   ],
   "source": [
    "# Import required libraries\n",
    "import pandas as pd\n",
    "import matplotlib.pyplot as plt\n",
    "\n",
    "# Enable matplotlib inline plotting in Jupyter Notebook\n",
    "%matplotlib inline\n",
    "\n",
    "# Create a more extensive DataFrame\n",
    "data = {\n",
    "    'Category': ['A', 'B', 'C', 'D', 'E', 'F', 'G', 'H', 'I', 'J'],\n",
    "    'Value': [10, 15, 8, 12, 17, 6, 22, 14, 9, 18]\n",
    "}\n",
    "df = pd.DataFrame(data)\n",
    "\n",
    "# Display the DataFrame\n",
    "print(df)\n",
    "\n",
    "# Create a bar chart from the DataFrame\n",
    "fig, ax = plt.subplots()\n",
    "ax.bar(df['Category'], df['Value'])\n",
    "ax.set_title('Bar Chart of Categories and Values')\n",
    "ax.set_xlabel('Category')\n",
    "ax.set_ylabel('Value')\n",
    "\n",
    "# Show the plot\n",
    "plt.show()\n"
   ]
  },
  {
   "cell_type": "code",
   "execution_count": null,
   "id": "a7487865-16fc-4217-9a35-fb1cd7a05d86",
   "metadata": {},
   "outputs": [],
   "source": []
  }
 ],
 "metadata": {
  "kernelspec": {
   "display_name": "Python 3 (ipykernel)",
   "language": "python",
   "name": "python3"
  },
  "language_info": {
   "codemirror_mode": {
    "name": "ipython",
    "version": 3
   },
   "file_extension": ".py",
   "mimetype": "text/x-python",
   "name": "python",
   "nbconvert_exporter": "python",
   "pygments_lexer": "ipython3",
   "version": "3.9.7"
  }
 },
 "nbformat": 4,
 "nbformat_minor": 5
}
