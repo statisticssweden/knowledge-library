{
 "cells": [
  {
   "cell_type": "code",
   "execution_count": null,
   "id": "0993115a-b739-4330-b1cb-1f1ad6613d39",
   "metadata": {
    "papermill": {
     "duration": 0.075031,
     "end_time": "2023-04-21T12:35:08.703211",
     "exception": false,
     "start_time": "2023-04-21T12:35:08.628180",
     "status": "completed"
    },
    "tags": []
   },
   "outputs": [],
   "source": [
    "# function to write object and tags\n",
    "from minio import Minio\n",
    "from minio.commonconfig import Tags\n",
    "from io import BytesIO\n",
    "import os\n",
    "\n",
    "\n",
    "def write_to_s3(bucket, filepath, tags={}, meta={}):\n",
    "    # create Minio client and init bucket if necessary\n",
    "    client = Minio(\n",
    "        os.getenv(\"JUPYTERLAB_S3_ENDPOINT\").replace(\"http://\", \"\"),\n",
    "        secure=False,\n",
    "        access_key=os.getenv(\"JUPYTERLAB_S3_ACCESS_KEY_ID\"),\n",
    "        secret_key=os.getenv(\"JUPYTERLAB_S3_SECRET_ACCESS_KEY\"),\n",
    "    )\n",
    "    found = client.bucket_exists(bucket)\n",
    "    if not found:\n",
    "        print(\"Bucket does not exist: %s\" % (bucket))\n",
    "        return False  # failure\n",
    "\n",
    "    # init tags\n",
    "    t = Tags(for_object=True)\n",
    "    for k, v in tags.items():\n",
    "        t[k] = v\n",
    "\n",
    "    with open(filepath, mode=\"rb\") as source_file:\n",
    "        contents = source_file.read()\n",
    "\n",
    "    client.put_object(\n",
    "        bucket,\n",
    "        filepath,\n",
    "        data=BytesIO(contents),\n",
    "        length=len(contents),\n",
    "        tags=t,\n",
    "        metadata=meta,\n",
    "        content_type='application/csv'\n",
    "    )\n",
    "    return True  # success\n",
    "\n",
    "\n",
    "write_to_s3(\n",
    "    bucket=\"XXXX\", #Update to match local environment\n",
    "    filepath=\"pipeline-tx.parquet\",\n",
    "    tags={\"color\": \"red\", \"size\": \"small\"},\n",
    "    meta={\"cat\": \"meow\", \"dog\": \"woof\", \"horse\": \"neigh\"})"
   ]
  },
  {
   "cell_type": "code",
   "execution_count": null,
   "id": "9f3ab1ba-d950-4f70-aab3-54f000a1b84a",
   "metadata": {
    "papermill": {
     "duration": 0.001099,
     "end_time": "2023-04-21T12:35:08.705905",
     "exception": false,
     "start_time": "2023-04-21T12:35:08.704806",
     "status": "completed"
    },
    "tags": []
   },
   "outputs": [],
   "source": []
  }
 ],
 "metadata": {
  "kernelspec": {
   "display_name": "Python 3 (ipykernel)",
   "language": "python",
   "name": "python3"
  },
  "language_info": {
   "codemirror_mode": {
    "name": "ipython",
    "version": 3
   },
   "file_extension": ".py",
   "mimetype": "text/x-python",
   "name": "python",
   "nbconvert_exporter": "python",
   "pygments_lexer": "ipython3",
   "version": "3.9.7"
  },
  "papermill": {
   "default_parameters": {},
   "duration": 1.420947,
   "end_time": "2023-04-21T12:35:08.924331",
   "environment_variables": {},
   "exception": null,
   "input_path": "/home/jovyan/demo-funktionalitet/produktionsflode/02-P-PushToS3.ipynb",
   "output_path": "/home/jovyan/demo-funktionalitet/produktionsflode/02-P-PushToS3.ipynb",
   "parameters": {},
   "start_time": "2023-04-21T12:35:07.503384",
   "version": "2.4.0"
  }
 },
 "nbformat": 4,
 "nbformat_minor": 5
}
