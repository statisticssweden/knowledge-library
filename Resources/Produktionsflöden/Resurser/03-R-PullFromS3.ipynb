{
 "cells": [
  {
   "cell_type": "code",
   "execution_count": null,
   "id": "07b46791-3f17-4a02-bb92-d562c3bfa0af",
   "metadata": {
    "papermill": {
     "duration": 0.43568,
     "end_time": "2023-04-21T12:35:10.680043",
     "exception": false,
     "start_time": "2023-04-21T12:35:10.244363",
     "status": "completed"
    },
    "tags": []
   },
   "outputs": [],
   "source": [
    "# function to setup enviroment variables\n",
    "setup_env <- function() {\n",
    "    key <- Sys.getenv(\"JUPYTERLAB_S3_ACCESS_KEY_ID\")\n",
    "    secret <- Sys.getenv(\"JUPYTERLAB_S3_SECRET_ACCESS_KEY\")\n",
    "    endpoint <- Sys.getenv(\"JUPYTERLAB_S3_ENDPOINT\")\n",
    "    endpoint <- gsub(\"http://\", \"\", endpoint)\n",
    "    endpoint <- paste0(endpoint, \":80\")\n",
    "    Sys.setenv(\n",
    "        \"AWS_ACCESS_KEY_ID\" = key,\n",
    "        \"AWS_SECRET_ACCESS_KEY\" = secret,\n",
    "        \"AWS_DEFAULT_REGION\" = \"\",\n",
    "        \"AWS_S3_ENDPOINT\" = endpoint)\n",
    "}\n",
    "\n",
    "# function to get object metadata\n",
    "get_meta <- function(path, bucket) {\n",
    "    headers <- head_object(path, bucket, use_http = F)\n",
    "    fields <- attributes(headers)\n",
    "    meta <- list()\n",
    "    for (i in seq(1,length(fields))){\n",
    "        value <- fields[i]\n",
    "        name <- names(value)\n",
    "        if (startsWith(name, \"x-amz-meta-\"))\n",
    "             meta[name] = value\n",
    "    }\n",
    "    return(meta)\n",
    "}\n",
    "\n",
    "# function to get object tags\n",
    "get_tags <- function(path, bucket) {\n",
    "    r <- s3HTTP(\n",
    "        verb = \"GET\", \n",
    "        bucket = bucket,\n",
    "        path = path,\n",
    "        query = list(tagging = \"\"),\n",
    "        headers = list(), \n",
    "        request_body = \"\",\n",
    "        write_disk = NULL,\n",
    "        accelerate = FALSE,\n",
    "        dualstack = FALSE,\n",
    "        parse_response = TRUE, \n",
    "        check_region = FALSE,\n",
    "        url_style = c(\"path\", \"virtual\"),\n",
    "        base_url = Sys.getenv(\"AWS_S3_ENDPOINT\"),\n",
    "        verbose = FALSE,\n",
    "        region = Sys.getenv(\"AWS_DEFAULT_REGION\"), \n",
    "        key = Sys.getenv(\"AWS_ACCESS_KEY_ID\"), \n",
    "        secret = Sys.getenv(\"AWS_SECRET_ACCESS_KEY\"), \n",
    "        session_token = NULL,\n",
    "        use_https = FALSE)\n",
    "    return(r)\n",
    "}\n",
    "\n",
    "# ------------------------------------------------------------------------------\n",
    "\n",
    "setup_env()\n",
    "library(\"minio.s3\")\n",
    "library(arrow)\n",
    "\n",
    "bucketName <- 'XXXX' #Update to match local environment\n",
    "remoteFileName <- 'pipeline-tx.parquet'\n",
    "localFileName <- 'pipeline-rx.parquet'\n",
    "\n",
    "# get object tags and metadata\n",
    "get_tags(remoteFileName, bucketName)\n",
    "get_meta(remoteFileName, bucketName)\n",
    "\n",
    "# get an object from S3 storage and write it in local storage\n",
    "raw <- get_object(remoteFileName, bucketName, use_https = F)\n",
    "write_parquet(read_parquet(raw), localFileName)"
   ]
  },
  {
   "cell_type": "code",
   "execution_count": null,
   "id": "43de7fe5-c145-424c-a60d-89deb04d08a7",
   "metadata": {
    "papermill": {
     "duration": 0.001445,
     "end_time": "2023-04-21T12:35:10.683609",
     "exception": false,
     "start_time": "2023-04-21T12:35:10.682164",
     "status": "completed"
    },
    "tags": []
   },
   "outputs": [],
   "source": []
  }
 ],
 "metadata": {
  "kernelspec": {
   "display_name": "R",
   "language": "R",
   "name": "ir"
  },
  "language_info": {
   "codemirror_mode": "r",
   "file_extension": ".r",
   "mimetype": "text/x-r-source",
   "name": "R",
   "pygments_lexer": "r",
   "version": "4.2.3"
  },
  "papermill": {
   "default_parameters": {},
   "duration": 1.889548,
   "end_time": "2023-04-21T12:35:10.818017",
   "environment_variables": {},
   "exception": null,
   "input_path": "/home/jovyan/demo-funktionalitet/produktionsflode/03-R-PullFromS3.ipynb",
   "output_path": "/home/jovyan/demo-funktionalitet/produktionsflode/03-R-PullFromS3.ipynb",
   "parameters": {},
   "start_time": "2023-04-21T12:35:08.928469",
   "version": "2.4.0"
  }
 },
 "nbformat": 4,
 "nbformat_minor": 5
}
