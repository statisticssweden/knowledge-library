{
 "cells": [
  {
   "cell_type": "code",
   "execution_count": null,
   "id": "0faa0fd9-7b9f-4339-8f74-93c0fb07453a",
   "metadata": {
    "papermill": {
     "duration": 0.282375,
     "end_time": "2023-04-21T12:35:12.392471",
     "exception": false,
     "start_time": "2023-04-21T12:35:12.110096",
     "status": "completed"
    },
    "tags": []
   },
   "outputs": [],
   "source": [
    "library(arrow) # arrow_info()\n",
    "read_parquet(\"pipeline-rx.parquet\")"
   ]
  },
  {
   "cell_type": "code",
   "execution_count": null,
   "id": "5d1067ec-73ca-4cee-bc21-5f2ea318740f",
   "metadata": {
    "papermill": {
     "duration": 0.001241,
     "end_time": "2023-04-21T12:35:12.395667",
     "exception": false,
     "start_time": "2023-04-21T12:35:12.394426",
     "status": "completed"
    },
    "tags": []
   },
   "outputs": [],
   "source": []
  }
 ],
 "metadata": {
  "kernelspec": {
   "display_name": "R",
   "language": "R",
   "name": "ir"
  },
  "language_info": {
   "codemirror_mode": "r",
   "file_extension": ".r",
   "mimetype": "text/x-r-source",
   "name": "R",
   "pygments_lexer": "r",
   "version": "4.2.3"
  },
  "papermill": {
   "default_parameters": {},
   "duration": 1.698401,
   "end_time": "2023-04-21T12:35:12.528834",
   "environment_variables": {},
   "exception": null,
   "input_path": "/home/jovyan/demo-funktionalitet/produktionsflode/04-R-ReadParquet.ipynb",
   "output_path": "/home/jovyan/demo-funktionalitet/produktionsflode/04-R-ReadParquet.ipynb",
   "parameters": {},
   "start_time": "2023-04-21T12:35:10.830433",
   "version": "2.4.0"
  }
 },
 "nbformat": 4,
 "nbformat_minor": 5
}
