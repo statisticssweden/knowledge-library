{
 "cells": [
  {
   "cell_type": "code",
   "execution_count": null,
   "id": "b3a4ca58-758a-489f-8725-055bc7ef0cc4",
   "metadata": {
    "papermill": {
     "duration": 0.433974,
     "end_time": "2023-04-21T12:35:07.278633",
     "exception": false,
     "start_time": "2023-04-21T12:35:06.844659",
     "status": "completed"
    },
    "tags": []
   },
   "outputs": [],
   "source": [
    "#pip install pyarrow # only if pyarrow is not installed yet!\n",
    "# Example with pandas *****************************************************************\n",
    "import pandas as pd\n",
    "data = [['uno', 1], ['dos', 2], ['tres', 3]]\n",
    "df = pd.DataFrame(data, columns=['Nombre', 'Valor'])\n",
    "df.to_parquet(\"pipeline-tx.parquet\", engine='pyarrow')"
   ]
  },
  {
   "cell_type": "code",
   "execution_count": null,
   "id": "ff3d8a7c-7a43-4c8f-9de4-86081411db0d",
   "metadata": {
    "papermill": {
     "duration": 0.000964,
     "end_time": "2023-04-21T12:35:07.281027",
     "exception": false,
     "start_time": "2023-04-21T12:35:07.280063",
     "status": "completed"
    },
    "tags": []
   },
   "outputs": [],
   "source": []
  }
 ],
 "metadata": {
  "kernelspec": {
   "display_name": "Python 3 (ipykernel)",
   "language": "python",
   "name": "python3"
  },
  "language_info": {
   "codemirror_mode": {
    "name": "ipython",
    "version": 3
   },
   "file_extension": ".py",
   "mimetype": "text/x-python",
   "name": "python",
   "nbconvert_exporter": "python",
   "pygments_lexer": "ipython3",
   "version": "3.9.7"
  },
  "papermill": {
   "default_parameters": {},
   "duration": 1.635995,
   "end_time": "2023-04-21T12:35:07.499816",
   "environment_variables": {},
   "exception": null,
   "input_path": "/home/jovyan/demo-funktionalitet/produktionsflode/01-P-WriteParquet.ipynb",
   "output_path": "/home/jovyan/demo-funktionalitet/produktionsflode/01-P-WriteParquet.ipynb",
   "parameters": {},
   "start_time": "2023-04-21T12:35:05.863821",
   "version": "2.4.0"
  }
 },
 "nbformat": 4,
 "nbformat_minor": 5
}
