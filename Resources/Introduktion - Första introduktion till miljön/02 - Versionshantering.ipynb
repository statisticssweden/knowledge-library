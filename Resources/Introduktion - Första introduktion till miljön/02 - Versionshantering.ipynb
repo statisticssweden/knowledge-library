{
 "cells": [
  {
   "cell_type": "markdown",
   "id": "8feb2e6b-2d96-4914-8652-c4e306f10d60",
   "metadata": {
    "tags": []
   },
   "source": [
    "# 02. Versionshantering av kod\n",
    "\n",
    "## 1. Vad är versionshantering?\n",
    "Versionshantering, eller versionskontroll, är en process för att spåra och hantera ändringar i programvara, dokument eller andra typer av filer över tiden. Syftet med versionshantering är att underlätta samarbete mellan flera personer som arbetar på ett projekt och att hålla koll på hur projektet utvecklas över tid.\n",
    "\n",
    "Det finns olika system och verktyg för versionshantering, och de vanligaste inkluderar:\n",
    "\n",
    "* Lokal versionshantering: Detta innebär att projektets filer och ändringar spåras på en enskild användares dator. En vanlig metod är att använda enkla kopior av filerna med olika namn eller mappstrukturer.\n",
    "* Centraliserad versionshantering: I detta system finns en central server som innehåller alla projektets filer och historik. Användare checkar ut filer från servern, gör ändringar och checkar sedan in dem igen.\n",
    "* Distribuerad versionshantering: Här har varje användare en kopia av hela projektets historik och filer på sin egen dator. Detta gör det möjligt för användare att arbeta oberoende av en central server och är mer robust vid nätverksproblem.\n",
    "\n",
    "De två mest populära distribuerade versionshanteringssystemen är Git och Mercurial. Dessa system gör det möjligt för användare att följa projektets historia, skapa grenar för att experimentera med ändringar och sedan slå samman dem till huvudgrenen när de är klara.\n",
    "\n",
    "Versionshanteringssystem är oumbärliga verktyg inom mjukvaruutveckling och används också i andra områden där ändringshantering och samarbete är viktigt, som dokumenthantering, webbutveckling och grafisk design. De hjälper till att undvika konflikter, återställa tidigare versioner av projektet och skapa en strukturerad och dokumenterad historik över ändringar.\n",
    "\n",
    "## 2. Grundläggande Git-funktioner (repo, clone, commit etc.)\n",
    "Git är ett kraftfullt distribuerat versionshanteringssystem som används för att spåra ändringar i källkod och andra projektfiler. Här är några grundläggande Git-funktioner och begrepp:\n",
    "\n",
    "* Repository (Repo): Ett Git-repository är en plats där du lagrar ditt projekt. Det kan vara antingen ett \"lokalt repository\" på din dator eller ett \"fjärrrepository\" på en server (till exempel på GitHub, GitLab eller Bitbucket).\n",
    "* Clone: Att klona ett Git-repo innebär att du skapar en kopia av det befintliga projektet på din egen dator. Detta görs med kommandot git clone och ger dig en lokal kopia att arbeta med.\n",
    "* Commit: En commit är en samling av ändringar som du gör i ditt projekt. När du är nöjd med de ändringar du har gjort, kan du använda kommandot git commit för att spara dem i ditt lokala repository. Varje commit har en unik identifikator.\n",
    "* Branch (Gren): En gren i Git representerar en oberoende linje av utveckling. Du kan skapa en ny gren för att experimentera med ändringar utan att påverka huvudutvecklingen. Sedan kan du sammanföra (merge) dina ändringar från grenen till huvudgrenen.\n",
    "* Pull Request (PR): Om du använder en fjärrrepositorystjänst som GitHub eller GitLab, kan du skapa en pull request för att föreslå ändringar till ett projekt. Andra kan granska dina ändringar och, om de är godkända, sammanföra dem med huvudgrenen.\n",
    "* Push: Att pusha innebär att du skickar dina lokala commits till ett fjärrrepository så att andra kan se dina ändringar. Använd kommandot git push för att göra detta.\n",
    "* Pull: Att pulla är att hämta senaste ändringar från ett fjärrrepository till ditt lokala repository. Använd kommandot git pull för att uppdatera din arbetskopia med de senaste ändringarna från fjärrrepositoryt.\n",
    "* Merge: När du vill inkludera ändringar från en gren i huvudgrenen använder du kommandot git merge. Detta kombinerar ändringar från en gren med huvudutvecklingen.\n",
    "* Status: Kommandot git status visar statusen för ditt arbetsområde, inklusive vilka ändringar som har gjorts, vilka filer som är oförändrade och så vidare.\n",
    "* Log: Med kommandot git log kan du visa en lista över tidigare commits i ditt repository, inklusive författare, datum och commit-meddelanden.\n",
    "\n",
    "Git erbjuder även många andra funktioner och kommandon som kan vara användbara för mer avancerad arbetsflöde och projektledning\n",
    "\n",
    "## 3. Hur arbetar du med versionshantering i Balsam?\n",
    "När miljön skapats har den automatiskt ställts in att använda rätt repositary.\n",
    "\n",
    "Beskrivning av gränssnittet (fliken till vänster för Git), + bild\n",
    "\n",
    "Bilder som beskriver (repository, bransch, den egna miljön i förhållande till kod i repot=\n",
    "\n",
    "Molnknapparna högst upp, vad gör de? Utkik efter den orangea ikonen på molnet\n",
    "\n",
    "Om orange ikon, så kan det vara bra att trycka på den för att hämta hem den senaste \n",
    "versionen/senaste uppdateringarna på det centrala repot.\n",
    "Om ändringar gjorts i filer så dyker förändringarna upp i gränssnittet nedanför som en lista (Changed)\n",
    "\n",
    "Under ”Untracked” finns nya filer som du själv lagt till\n",
    "\n",
    "### När ändringar är gjorda som du vill checka in:\n",
    "1. Om ändringar är gjorda som du vill checka in , högerlkicka på filen och välj ”stage” \n",
    "2. Om man lagt till en fil högerlkicka på filen och välj ”track”.\n",
    "3. Efter 1 + 2 så dyker filen upp i ”staged”\n",
    "4. Beskriv vad som ändrats i textrutan, där det står summary + eventuell mer info i description.\n",
    "5. Tryck på commit längst ner. (Man arbetar först lokalt och sedan pushar man upp till molnet längst upp med pilen upp (för att dela med andra).\n",
    "6. Djupgående beskrivning (senare), vad gör jag när……(typfall av problematik..)\n",
    "7. Var finns koden innan och efter att den är incheckad (incheckad kod=säker, sparad, delad kod)\n"
   ]
  }
 ],
 "metadata": {
  "kernelspec": {
   "display_name": "Python 3 (ipykernel)",
   "language": "python",
   "name": "python3"
  },
  "language_info": {
   "codemirror_mode": {
    "name": "ipython",
    "version": 3
   },
   "file_extension": ".py",
   "mimetype": "text/x-python",
   "name": "python",
   "nbconvert_exporter": "python",
   "pygments_lexer": "ipython3",
   "version": "3.9.7"
  }
 },
 "nbformat": 4,
 "nbformat_minor": 5
}
