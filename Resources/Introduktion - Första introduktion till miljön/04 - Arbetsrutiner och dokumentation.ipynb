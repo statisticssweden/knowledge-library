{
 "cells": [
  {
   "cell_type": "markdown",
   "id": "ea35a6e6-f869-42c3-8fe5-4063de81e259",
   "metadata": {},
   "source": [
    "## 04. Arbetsrutiner och dokumentation"
   ]
  }
 ],
 "metadata": {
  "kernelspec": {
   "display_name": "Python 3 (ipykernel)",
   "language": "python",
   "name": "python3"
  },
  "language_info": {
   "codemirror_mode": {
    "name": "ipython",
    "version": 3
   },
   "file_extension": ".py",
   "mimetype": "text/x-python",
   "name": "python",
   "nbconvert_exporter": "python",
   "pygments_lexer": "ipython3",
   "version": "3.9.7"
  }
 },
 "nbformat": 4,
 "nbformat_minor": 5
}
